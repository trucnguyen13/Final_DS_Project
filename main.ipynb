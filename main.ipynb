{
 "cells": [
  {
   "cell_type": "code",
   "execution_count": 1,
   "id": "bf5080cf",
   "metadata": {},
   "outputs": [],
   "source": [
    "import pandas as pd\n",
    "import numpy as np\n",
    "import matplotlib.pyplot as plt"
   ]
  },
  {
   "cell_type": "code",
   "execution_count": 2,
   "id": "b5a30ab1",
   "metadata": {},
   "outputs": [
    {
     "data": {
      "text/html": [
       "<div>\n",
       "<style scoped>\n",
       "    .dataframe tbody tr th:only-of-type {\n",
       "        vertical-align: middle;\n",
       "    }\n",
       "\n",
       "    .dataframe tbody tr th {\n",
       "        vertical-align: top;\n",
       "    }\n",
       "\n",
       "    .dataframe thead th {\n",
       "        text-align: right;\n",
       "    }\n",
       "</style>\n",
       "<table border=\"1\" class=\"dataframe\">\n",
       "  <thead>\n",
       "    <tr style=\"text-align: right;\">\n",
       "      <th></th>\n",
       "      <th>id</th>\n",
       "      <th>name</th>\n",
       "      <th>date</th>\n",
       "      <th>manner_of_death</th>\n",
       "      <th>armed</th>\n",
       "      <th>age</th>\n",
       "      <th>gender</th>\n",
       "      <th>race</th>\n",
       "      <th>city</th>\n",
       "      <th>state</th>\n",
       "      <th>signs_of_mental_illness</th>\n",
       "      <th>threat_level</th>\n",
       "      <th>flee</th>\n",
       "      <th>body_camera</th>\n",
       "      <th>longitude</th>\n",
       "      <th>latitude</th>\n",
       "      <th>is_geocoding_exact</th>\n",
       "    </tr>\n",
       "  </thead>\n",
       "  <tbody>\n",
       "    <tr>\n",
       "      <th>0</th>\n",
       "      <td>3</td>\n",
       "      <td>Tim Elliot</td>\n",
       "      <td>2015-01-02</td>\n",
       "      <td>shot</td>\n",
       "      <td>gun</td>\n",
       "      <td>53.0</td>\n",
       "      <td>M</td>\n",
       "      <td>A</td>\n",
       "      <td>Shelton</td>\n",
       "      <td>WA</td>\n",
       "      <td>True</td>\n",
       "      <td>attack</td>\n",
       "      <td>Not fleeing</td>\n",
       "      <td>False</td>\n",
       "      <td>-123.122</td>\n",
       "      <td>47.247</td>\n",
       "      <td>True</td>\n",
       "    </tr>\n",
       "    <tr>\n",
       "      <th>1</th>\n",
       "      <td>4</td>\n",
       "      <td>Lewis Lee Lembke</td>\n",
       "      <td>2015-01-02</td>\n",
       "      <td>shot</td>\n",
       "      <td>gun</td>\n",
       "      <td>47.0</td>\n",
       "      <td>M</td>\n",
       "      <td>W</td>\n",
       "      <td>Aloha</td>\n",
       "      <td>OR</td>\n",
       "      <td>False</td>\n",
       "      <td>attack</td>\n",
       "      <td>Not fleeing</td>\n",
       "      <td>False</td>\n",
       "      <td>-122.892</td>\n",
       "      <td>45.487</td>\n",
       "      <td>True</td>\n",
       "    </tr>\n",
       "    <tr>\n",
       "      <th>2</th>\n",
       "      <td>5</td>\n",
       "      <td>John Paul Quintero</td>\n",
       "      <td>2015-01-03</td>\n",
       "      <td>shot and Tasered</td>\n",
       "      <td>unarmed</td>\n",
       "      <td>23.0</td>\n",
       "      <td>M</td>\n",
       "      <td>H</td>\n",
       "      <td>Wichita</td>\n",
       "      <td>KS</td>\n",
       "      <td>False</td>\n",
       "      <td>other</td>\n",
       "      <td>Not fleeing</td>\n",
       "      <td>False</td>\n",
       "      <td>-97.281</td>\n",
       "      <td>37.695</td>\n",
       "      <td>True</td>\n",
       "    </tr>\n",
       "    <tr>\n",
       "      <th>3</th>\n",
       "      <td>8</td>\n",
       "      <td>Matthew Hoffman</td>\n",
       "      <td>2015-01-04</td>\n",
       "      <td>shot</td>\n",
       "      <td>toy weapon</td>\n",
       "      <td>32.0</td>\n",
       "      <td>M</td>\n",
       "      <td>W</td>\n",
       "      <td>San Francisco</td>\n",
       "      <td>CA</td>\n",
       "      <td>True</td>\n",
       "      <td>attack</td>\n",
       "      <td>Not fleeing</td>\n",
       "      <td>False</td>\n",
       "      <td>-122.422</td>\n",
       "      <td>37.763</td>\n",
       "      <td>True</td>\n",
       "    </tr>\n",
       "    <tr>\n",
       "      <th>4</th>\n",
       "      <td>9</td>\n",
       "      <td>Michael Rodriguez</td>\n",
       "      <td>2015-01-04</td>\n",
       "      <td>shot</td>\n",
       "      <td>nail gun</td>\n",
       "      <td>39.0</td>\n",
       "      <td>M</td>\n",
       "      <td>H</td>\n",
       "      <td>Evans</td>\n",
       "      <td>CO</td>\n",
       "      <td>False</td>\n",
       "      <td>attack</td>\n",
       "      <td>Not fleeing</td>\n",
       "      <td>False</td>\n",
       "      <td>-104.692</td>\n",
       "      <td>40.384</td>\n",
       "      <td>True</td>\n",
       "    </tr>\n",
       "  </tbody>\n",
       "</table>\n",
       "</div>"
      ],
      "text/plain": [
       "   id                name        date   manner_of_death       armed   age  \\\n",
       "0   3          Tim Elliot  2015-01-02              shot         gun  53.0   \n",
       "1   4    Lewis Lee Lembke  2015-01-02              shot         gun  47.0   \n",
       "2   5  John Paul Quintero  2015-01-03  shot and Tasered     unarmed  23.0   \n",
       "3   8     Matthew Hoffman  2015-01-04              shot  toy weapon  32.0   \n",
       "4   9   Michael Rodriguez  2015-01-04              shot    nail gun  39.0   \n",
       "\n",
       "  gender race           city state  signs_of_mental_illness threat_level  \\\n",
       "0      M    A        Shelton    WA                     True       attack   \n",
       "1      M    W          Aloha    OR                    False       attack   \n",
       "2      M    H        Wichita    KS                    False        other   \n",
       "3      M    W  San Francisco    CA                     True       attack   \n",
       "4      M    H          Evans    CO                    False       attack   \n",
       "\n",
       "          flee  body_camera  longitude  latitude  is_geocoding_exact  \n",
       "0  Not fleeing        False   -123.122    47.247                True  \n",
       "1  Not fleeing        False   -122.892    45.487                True  \n",
       "2  Not fleeing        False    -97.281    37.695                True  \n",
       "3  Not fleeing        False   -122.422    37.763                True  \n",
       "4  Not fleeing        False   -104.692    40.384                True  "
      ]
     },
     "execution_count": 2,
     "metadata": {},
     "output_type": "execute_result"
    }
   ],
   "source": [
    "mvt_df = pd.read_csv('data.csv')\n",
    "mvt_df.head()\n"
   ]
  },
  {
   "cell_type": "code",
   "execution_count": 3,
   "id": "cc01ff4f",
   "metadata": {},
   "outputs": [
    {
     "data": {
      "text/plain": [
       "(6419, 17)"
      ]
     },
     "execution_count": 3,
     "metadata": {},
     "output_type": "execute_result"
    }
   ],
   "source": [
    "mvt_df.shape"
   ]
  },
  {
   "cell_type": "code",
   "execution_count": 4,
   "id": "2df98f08",
   "metadata": {},
   "outputs": [
    {
     "data": {
      "text/plain": [
       "id                           int64\n",
       "name                        object\n",
       "date                        object\n",
       "manner_of_death             object\n",
       "armed                       object\n",
       "age                        float64\n",
       "gender                      object\n",
       "race                        object\n",
       "city                        object\n",
       "state                       object\n",
       "signs_of_mental_illness       bool\n",
       "threat_level                object\n",
       "flee                        object\n",
       "body_camera                   bool\n",
       "longitude                  float64\n",
       "latitude                   float64\n",
       "is_geocoding_exact            bool\n",
       "dtype: object"
      ]
     },
     "execution_count": 4,
     "metadata": {},
     "output_type": "execute_result"
    }
   ],
   "source": [
    "col_dtypes = mvt_df.dtypes\n",
    "col_dtypes"
   ]
  },
  {
   "cell_type": "code",
   "execution_count": 5,
   "id": "859a4394",
   "metadata": {},
   "outputs": [
    {
     "data": {
      "text/plain": [
       "id                         False\n",
       "name                        True\n",
       "date                       False\n",
       "manner_of_death            False\n",
       "armed                       True\n",
       "age                         True\n",
       "gender                      True\n",
       "race                        True\n",
       "city                       False\n",
       "state                      False\n",
       "signs_of_mental_illness    False\n",
       "threat_level               False\n",
       "flee                        True\n",
       "body_camera                False\n",
       "longitude                   True\n",
       "latitude                    True\n",
       "is_geocoding_exact         False\n",
       "dtype: bool"
      ]
     },
     "execution_count": 5,
     "metadata": {},
     "output_type": "execute_result"
    }
   ],
   "source": [
    "mvt_df.isna().any()"
   ]
  },
  {
   "cell_type": "code",
   "execution_count": 6,
   "id": "8458c220",
   "metadata": {},
   "outputs": [],
   "source": [
    "mvt_df['date'] = pd.to_datetime(mvt_df['date'], format=\"%Y-%m-%d\")"
   ]
  },
  {
   "cell_type": "code",
   "execution_count": 7,
   "id": "aa58d291",
   "metadata": {},
   "outputs": [
    {
     "data": {
      "text/plain": [
       "id                                  int64\n",
       "name                               object\n",
       "date                       datetime64[ns]\n",
       "manner_of_death                    object\n",
       "armed                              object\n",
       "age                               float64\n",
       "gender                             object\n",
       "race                               object\n",
       "city                               object\n",
       "state                              object\n",
       "signs_of_mental_illness              bool\n",
       "threat_level                       object\n",
       "flee                               object\n",
       "body_camera                          bool\n",
       "longitude                         float64\n",
       "latitude                          float64\n",
       "is_geocoding_exact                   bool\n",
       "dtype: object"
      ]
     },
     "execution_count": 7,
     "metadata": {},
     "output_type": "execute_result"
    }
   ],
   "source": [
    "mvt_df.dtypes"
   ]
  },
  {
   "cell_type": "code",
   "execution_count": 8,
   "id": "d32b918f",
   "metadata": {},
   "outputs": [
    {
     "data": {
      "text/html": [
       "<div>\n",
       "<style scoped>\n",
       "    .dataframe tbody tr th:only-of-type {\n",
       "        vertical-align: middle;\n",
       "    }\n",
       "\n",
       "    .dataframe tbody tr th {\n",
       "        vertical-align: top;\n",
       "    }\n",
       "\n",
       "    .dataframe thead th {\n",
       "        text-align: right;\n",
       "    }\n",
       "</style>\n",
       "<table border=\"1\" class=\"dataframe\">\n",
       "  <thead>\n",
       "    <tr style=\"text-align: right;\">\n",
       "      <th></th>\n",
       "      <th>date</th>\n",
       "      <th>age</th>\n",
       "      <th>longitude</th>\n",
       "      <th>latitude</th>\n",
       "    </tr>\n",
       "  </thead>\n",
       "  <tbody>\n",
       "    <tr>\n",
       "      <th>missing_ratio</th>\n",
       "      <td>0.0</td>\n",
       "      <td>4.548995</td>\n",
       "      <td>4.844991</td>\n",
       "      <td>4.844991</td>\n",
       "    </tr>\n",
       "    <tr>\n",
       "      <th>min</th>\n",
       "      <td>2015-01-02 00:00:00</td>\n",
       "      <td>6.000000</td>\n",
       "      <td>-158.137000</td>\n",
       "      <td>19.498000</td>\n",
       "    </tr>\n",
       "    <tr>\n",
       "      <th>max</th>\n",
       "      <td>2021-06-30 00:00:00</td>\n",
       "      <td>91.000000</td>\n",
       "      <td>-67.867000</td>\n",
       "      <td>71.301000</td>\n",
       "    </tr>\n",
       "  </tbody>\n",
       "</table>\n",
       "</div>"
      ],
      "text/plain": [
       "                              date        age   longitude   latitude\n",
       "missing_ratio                  0.0   4.548995    4.844991   4.844991\n",
       "min            2015-01-02 00:00:00   6.000000 -158.137000  19.498000\n",
       "max            2021-06-30 00:00:00  91.000000  -67.867000  71.301000"
      ]
     },
     "execution_count": 8,
     "metadata": {},
     "output_type": "execute_result"
    }
   ],
   "source": [
    "# YOUR CODE HERE\n",
    "numeric_arr = ['date','age','longitude','latitude']\n",
    "\n",
    "def missing_ratio(s):\n",
    "    return s.isna().mean() * 100\n",
    "nume_col_profiles_df = mvt_df[numeric_arr].agg([missing_ratio, min, max])\n",
    "nume_col_profiles_df"
   ]
  },
  {
   "cell_type": "code",
   "execution_count": 9,
   "id": "1f2107ae",
   "metadata": {},
   "outputs": [
    {
     "data": {
      "text/html": [
       "<div>\n",
       "<style scoped>\n",
       "    .dataframe tbody tr th:only-of-type {\n",
       "        vertical-align: middle;\n",
       "    }\n",
       "\n",
       "    .dataframe tbody tr th {\n",
       "        vertical-align: top;\n",
       "    }\n",
       "\n",
       "    .dataframe thead th {\n",
       "        text-align: right;\n",
       "    }\n",
       "</style>\n",
       "<table border=\"1\" class=\"dataframe\">\n",
       "  <thead>\n",
       "    <tr style=\"text-align: right;\">\n",
       "      <th></th>\n",
       "      <th>id</th>\n",
       "      <th>name</th>\n",
       "      <th>manner_of_death</th>\n",
       "      <th>armed</th>\n",
       "      <th>gender</th>\n",
       "      <th>race</th>\n",
       "      <th>city</th>\n",
       "      <th>state</th>\n",
       "      <th>signs_of_mental_illness</th>\n",
       "      <th>threat_level</th>\n",
       "      <th>flee</th>\n",
       "      <th>body_camera</th>\n",
       "      <th>is_geocoding_exact</th>\n",
       "    </tr>\n",
       "  </thead>\n",
       "  <tbody>\n",
       "    <tr>\n",
       "      <th>missing_ratio</th>\n",
       "      <td>0.0</td>\n",
       "      <td>3.754479</td>\n",
       "      <td>0.0</td>\n",
       "      <td>3.24038</td>\n",
       "      <td>0.015579</td>\n",
       "      <td>10.796074</td>\n",
       "      <td>0.0</td>\n",
       "      <td>0.0</td>\n",
       "      <td>0.0</td>\n",
       "      <td>0.0</td>\n",
       "      <td>6.761178</td>\n",
       "      <td>0.0</td>\n",
       "      <td>0.0</td>\n",
       "    </tr>\n",
       "    <tr>\n",
       "      <th>num_diff_vals</th>\n",
       "      <td>6419</td>\n",
       "      <td>6160</td>\n",
       "      <td>2</td>\n",
       "      <td>99</td>\n",
       "      <td>3</td>\n",
       "      <td>7</td>\n",
       "      <td>2778</td>\n",
       "      <td>51</td>\n",
       "      <td>2</td>\n",
       "      <td>3</td>\n",
       "      <td>5</td>\n",
       "      <td>2</td>\n",
       "      <td>2</td>\n",
       "    </tr>\n",
       "    <tr>\n",
       "      <th>diff_vals</th>\n",
       "      <td>[3, 4, 5, 8, 9, 11, 13, 15, 16, 17, 19, 21, 22...</td>\n",
       "      <td>[Tim Elliot, Lewis Lee Lembke, John Paul Quint...</td>\n",
       "      <td>[shot, shot and Tasered]</td>\n",
       "      <td>[gun, unarmed, toy weapon, nail gun, knife, na...</td>\n",
       "      <td>[M, F, nan]</td>\n",
       "      <td>[A, W, H, B, O, nan, N]</td>\n",
       "      <td>[Shelton, Aloha, Wichita, San Francisco, Evans...</td>\n",
       "      <td>[WA, OR, KS, CA, CO, OK, AZ, IA, PA, TX, OH, L...</td>\n",
       "      <td>[True, False]</td>\n",
       "      <td>[attack, other, undetermined]</td>\n",
       "      <td>[Not fleeing, Car, Foot, Other, nan]</td>\n",
       "      <td>[False, True]</td>\n",
       "      <td>[True, False]</td>\n",
       "    </tr>\n",
       "  </tbody>\n",
       "</table>\n",
       "</div>"
      ],
      "text/plain": [
       "                                                              id  \\\n",
       "missing_ratio                                                0.0   \n",
       "num_diff_vals                                               6419   \n",
       "diff_vals      [3, 4, 5, 8, 9, 11, 13, 15, 16, 17, 19, 21, 22...   \n",
       "\n",
       "                                                            name  \\\n",
       "missing_ratio                                           3.754479   \n",
       "num_diff_vals                                               6160   \n",
       "diff_vals      [Tim Elliot, Lewis Lee Lembke, John Paul Quint...   \n",
       "\n",
       "                        manner_of_death  \\\n",
       "missing_ratio                       0.0   \n",
       "num_diff_vals                         2   \n",
       "diff_vals      [shot, shot and Tasered]   \n",
       "\n",
       "                                                           armed       gender  \\\n",
       "missing_ratio                                            3.24038     0.015579   \n",
       "num_diff_vals                                                 99            3   \n",
       "diff_vals      [gun, unarmed, toy weapon, nail gun, knife, na...  [M, F, nan]   \n",
       "\n",
       "                                  race  \\\n",
       "missing_ratio                10.796074   \n",
       "num_diff_vals                        7   \n",
       "diff_vals      [A, W, H, B, O, nan, N]   \n",
       "\n",
       "                                                            city  \\\n",
       "missing_ratio                                                0.0   \n",
       "num_diff_vals                                               2778   \n",
       "diff_vals      [Shelton, Aloha, Wichita, San Francisco, Evans...   \n",
       "\n",
       "                                                           state  \\\n",
       "missing_ratio                                                0.0   \n",
       "num_diff_vals                                                 51   \n",
       "diff_vals      [WA, OR, KS, CA, CO, OK, AZ, IA, PA, TX, OH, L...   \n",
       "\n",
       "              signs_of_mental_illness                   threat_level  \\\n",
       "missing_ratio                     0.0                            0.0   \n",
       "num_diff_vals                       2                              3   \n",
       "diff_vals               [True, False]  [attack, other, undetermined]   \n",
       "\n",
       "                                               flee    body_camera  \\\n",
       "missing_ratio                              6.761178            0.0   \n",
       "num_diff_vals                                     5              2   \n",
       "diff_vals      [Not fleeing, Car, Foot, Other, nan]  [False, True]   \n",
       "\n",
       "              is_geocoding_exact  \n",
       "missing_ratio                0.0  \n",
       "num_diff_vals                  2  \n",
       "diff_vals          [True, False]  "
      ]
     },
     "execution_count": 9,
     "metadata": {},
     "output_type": "execute_result"
    }
   ],
   "source": [
    "# YOUR CODE HERE\n",
    "categorical_arr = [\"id\", \"name\", \"manner_of_death\", \"armed\", \"gender\", \"race\", \"city\",'state' \n",
    "                   ,'signs_of_mental_illness', 'threat_level', 'flee', 'body_camera', 'is_geocoding_exact']\n",
    "def num_diff_vals(s):    #số lượng giá trị khác nhau\n",
    "    return pd.Series.nunique(s, False) \n",
    "\n",
    "def diff_vals(s):       #list/array các giá trị khác nhau\n",
    "    return pd.Series.unique(s)\n",
    "\n",
    "cate_col_profiles_df = mvt_df[categorical_arr].agg([missing_ratio, num_diff_vals, diff_vals])\n",
    "cate_col_profiles_df"
   ]
  },
  {
   "cell_type": "code",
   "execution_count": 10,
   "id": "6f481358",
   "metadata": {},
   "outputs": [
    {
     "data": {
      "text/html": [
       "<div>\n",
       "<style scoped>\n",
       "    .dataframe tbody tr th:only-of-type {\n",
       "        vertical-align: middle;\n",
       "    }\n",
       "\n",
       "    .dataframe tbody tr th {\n",
       "        vertical-align: top;\n",
       "    }\n",
       "\n",
       "    .dataframe thead th {\n",
       "        text-align: right;\n",
       "    }\n",
       "</style>\n",
       "<table border=\"1\" class=\"dataframe\">\n",
       "  <thead>\n",
       "    <tr style=\"text-align: right;\">\n",
       "      <th></th>\n",
       "      <th>id</th>\n",
       "      <th>name</th>\n",
       "      <th>date</th>\n",
       "      <th>manner_of_death</th>\n",
       "      <th>armed</th>\n",
       "      <th>age</th>\n",
       "      <th>gender</th>\n",
       "      <th>race</th>\n",
       "      <th>city</th>\n",
       "      <th>state</th>\n",
       "      <th>signs_of_mental_illness</th>\n",
       "      <th>threat_level</th>\n",
       "      <th>flee</th>\n",
       "      <th>body_camera</th>\n",
       "      <th>longitude</th>\n",
       "      <th>latitude</th>\n",
       "      <th>is_geocoding_exact</th>\n",
       "    </tr>\n",
       "  </thead>\n",
       "  <tbody>\n",
       "    <tr>\n",
       "      <th>0</th>\n",
       "      <td>3</td>\n",
       "      <td>Tim Elliot</td>\n",
       "      <td>2015-01-02</td>\n",
       "      <td>shot</td>\n",
       "      <td>gun</td>\n",
       "      <td>53.0</td>\n",
       "      <td>M</td>\n",
       "      <td>A</td>\n",
       "      <td>Shelton</td>\n",
       "      <td>WA</td>\n",
       "      <td>True</td>\n",
       "      <td>attack</td>\n",
       "      <td>Not fleeing</td>\n",
       "      <td>False</td>\n",
       "      <td>-123.122</td>\n",
       "      <td>47.247</td>\n",
       "      <td>True</td>\n",
       "    </tr>\n",
       "    <tr>\n",
       "      <th>1</th>\n",
       "      <td>4</td>\n",
       "      <td>Lewis Lee Lembke</td>\n",
       "      <td>2015-01-02</td>\n",
       "      <td>shot</td>\n",
       "      <td>gun</td>\n",
       "      <td>47.0</td>\n",
       "      <td>M</td>\n",
       "      <td>W</td>\n",
       "      <td>Aloha</td>\n",
       "      <td>OR</td>\n",
       "      <td>False</td>\n",
       "      <td>attack</td>\n",
       "      <td>Not fleeing</td>\n",
       "      <td>False</td>\n",
       "      <td>-122.892</td>\n",
       "      <td>45.487</td>\n",
       "      <td>True</td>\n",
       "    </tr>\n",
       "    <tr>\n",
       "      <th>2</th>\n",
       "      <td>5</td>\n",
       "      <td>John Paul Quintero</td>\n",
       "      <td>2015-01-03</td>\n",
       "      <td>shot and Tasered</td>\n",
       "      <td>unarmed</td>\n",
       "      <td>23.0</td>\n",
       "      <td>M</td>\n",
       "      <td>H</td>\n",
       "      <td>Wichita</td>\n",
       "      <td>KS</td>\n",
       "      <td>False</td>\n",
       "      <td>other</td>\n",
       "      <td>Not fleeing</td>\n",
       "      <td>False</td>\n",
       "      <td>-97.281</td>\n",
       "      <td>37.695</td>\n",
       "      <td>True</td>\n",
       "    </tr>\n",
       "    <tr>\n",
       "      <th>3</th>\n",
       "      <td>8</td>\n",
       "      <td>Matthew Hoffman</td>\n",
       "      <td>2015-01-04</td>\n",
       "      <td>shot</td>\n",
       "      <td>toy weapon</td>\n",
       "      <td>32.0</td>\n",
       "      <td>M</td>\n",
       "      <td>W</td>\n",
       "      <td>San Francisco</td>\n",
       "      <td>CA</td>\n",
       "      <td>True</td>\n",
       "      <td>attack</td>\n",
       "      <td>Not fleeing</td>\n",
       "      <td>False</td>\n",
       "      <td>-122.422</td>\n",
       "      <td>37.763</td>\n",
       "      <td>True</td>\n",
       "    </tr>\n",
       "    <tr>\n",
       "      <th>4</th>\n",
       "      <td>9</td>\n",
       "      <td>Michael Rodriguez</td>\n",
       "      <td>2015-01-04</td>\n",
       "      <td>shot</td>\n",
       "      <td>nail gun</td>\n",
       "      <td>39.0</td>\n",
       "      <td>M</td>\n",
       "      <td>H</td>\n",
       "      <td>Evans</td>\n",
       "      <td>CO</td>\n",
       "      <td>False</td>\n",
       "      <td>attack</td>\n",
       "      <td>Not fleeing</td>\n",
       "      <td>False</td>\n",
       "      <td>-104.692</td>\n",
       "      <td>40.384</td>\n",
       "      <td>True</td>\n",
       "    </tr>\n",
       "    <tr>\n",
       "      <th>...</th>\n",
       "      <td>...</td>\n",
       "      <td>...</td>\n",
       "      <td>...</td>\n",
       "      <td>...</td>\n",
       "      <td>...</td>\n",
       "      <td>...</td>\n",
       "      <td>...</td>\n",
       "      <td>...</td>\n",
       "      <td>...</td>\n",
       "      <td>...</td>\n",
       "      <td>...</td>\n",
       "      <td>...</td>\n",
       "      <td>...</td>\n",
       "      <td>...</td>\n",
       "      <td>...</td>\n",
       "      <td>...</td>\n",
       "      <td>...</td>\n",
       "    </tr>\n",
       "    <tr>\n",
       "      <th>6414</th>\n",
       "      <td>6977</td>\n",
       "      <td>NaN</td>\n",
       "      <td>2021-06-28</td>\n",
       "      <td>shot</td>\n",
       "      <td>gun</td>\n",
       "      <td>NaN</td>\n",
       "      <td>M</td>\n",
       "      <td>NaN</td>\n",
       "      <td>Siskiyou County</td>\n",
       "      <td>CA</td>\n",
       "      <td>False</td>\n",
       "      <td>attack</td>\n",
       "      <td>Car</td>\n",
       "      <td>False</td>\n",
       "      <td>-122.192</td>\n",
       "      <td>41.635</td>\n",
       "      <td>True</td>\n",
       "    </tr>\n",
       "    <tr>\n",
       "      <th>6415</th>\n",
       "      <td>6962</td>\n",
       "      <td>Philip Sanders</td>\n",
       "      <td>2021-06-29</td>\n",
       "      <td>shot</td>\n",
       "      <td>gun</td>\n",
       "      <td>32.0</td>\n",
       "      <td>M</td>\n",
       "      <td>NaN</td>\n",
       "      <td>Flour Bluff</td>\n",
       "      <td>TX</td>\n",
       "      <td>False</td>\n",
       "      <td>attack</td>\n",
       "      <td>Not fleeing</td>\n",
       "      <td>False</td>\n",
       "      <td>-97.295</td>\n",
       "      <td>27.679</td>\n",
       "      <td>True</td>\n",
       "    </tr>\n",
       "    <tr>\n",
       "      <th>6416</th>\n",
       "      <td>6975</td>\n",
       "      <td>Larry Hunt</td>\n",
       "      <td>2021-06-29</td>\n",
       "      <td>shot</td>\n",
       "      <td>undetermined</td>\n",
       "      <td>58.0</td>\n",
       "      <td>M</td>\n",
       "      <td>NaN</td>\n",
       "      <td>Bayard</td>\n",
       "      <td>NE</td>\n",
       "      <td>False</td>\n",
       "      <td>undetermined</td>\n",
       "      <td>NaN</td>\n",
       "      <td>False</td>\n",
       "      <td>-103.322</td>\n",
       "      <td>41.752</td>\n",
       "      <td>True</td>\n",
       "    </tr>\n",
       "    <tr>\n",
       "      <th>6417</th>\n",
       "      <td>6974</td>\n",
       "      <td>John Hayden Inabinet</td>\n",
       "      <td>2021-06-30</td>\n",
       "      <td>shot</td>\n",
       "      <td>unknown weapon</td>\n",
       "      <td>51.0</td>\n",
       "      <td>M</td>\n",
       "      <td>NaN</td>\n",
       "      <td>Calhoun County</td>\n",
       "      <td>SC</td>\n",
       "      <td>False</td>\n",
       "      <td>undetermined</td>\n",
       "      <td>NaN</td>\n",
       "      <td>False</td>\n",
       "      <td>-80.860</td>\n",
       "      <td>33.634</td>\n",
       "      <td>True</td>\n",
       "    </tr>\n",
       "    <tr>\n",
       "      <th>6418</th>\n",
       "      <td>6976</td>\n",
       "      <td>Joseph Lee Humbles</td>\n",
       "      <td>2021-06-30</td>\n",
       "      <td>shot</td>\n",
       "      <td>gun</td>\n",
       "      <td>29.0</td>\n",
       "      <td>M</td>\n",
       "      <td>NaN</td>\n",
       "      <td>Atlanta</td>\n",
       "      <td>GA</td>\n",
       "      <td>False</td>\n",
       "      <td>attack</td>\n",
       "      <td>Not fleeing</td>\n",
       "      <td>False</td>\n",
       "      <td>-84.385</td>\n",
       "      <td>33.774</td>\n",
       "      <td>True</td>\n",
       "    </tr>\n",
       "  </tbody>\n",
       "</table>\n",
       "<p>6419 rows × 17 columns</p>\n",
       "</div>"
      ],
      "text/plain": [
       "        id                  name       date   manner_of_death           armed  \\\n",
       "0        3            Tim Elliot 2015-01-02              shot             gun   \n",
       "1        4      Lewis Lee Lembke 2015-01-02              shot             gun   \n",
       "2        5    John Paul Quintero 2015-01-03  shot and Tasered         unarmed   \n",
       "3        8       Matthew Hoffman 2015-01-04              shot      toy weapon   \n",
       "4        9     Michael Rodriguez 2015-01-04              shot        nail gun   \n",
       "...    ...                   ...        ...               ...             ...   \n",
       "6414  6977                   NaN 2021-06-28              shot             gun   \n",
       "6415  6962        Philip Sanders 2021-06-29              shot             gun   \n",
       "6416  6975            Larry Hunt 2021-06-29              shot    undetermined   \n",
       "6417  6974  John Hayden Inabinet 2021-06-30              shot  unknown weapon   \n",
       "6418  6976    Joseph Lee Humbles 2021-06-30              shot             gun   \n",
       "\n",
       "       age gender race             city state  signs_of_mental_illness  \\\n",
       "0     53.0      M    A          Shelton    WA                     True   \n",
       "1     47.0      M    W            Aloha    OR                    False   \n",
       "2     23.0      M    H          Wichita    KS                    False   \n",
       "3     32.0      M    W    San Francisco    CA                     True   \n",
       "4     39.0      M    H            Evans    CO                    False   \n",
       "...    ...    ...  ...              ...   ...                      ...   \n",
       "6414   NaN      M  NaN  Siskiyou County    CA                    False   \n",
       "6415  32.0      M  NaN      Flour Bluff    TX                    False   \n",
       "6416  58.0      M  NaN           Bayard    NE                    False   \n",
       "6417  51.0      M  NaN   Calhoun County    SC                    False   \n",
       "6418  29.0      M  NaN          Atlanta    GA                    False   \n",
       "\n",
       "      threat_level         flee  body_camera  longitude  latitude  \\\n",
       "0           attack  Not fleeing        False   -123.122    47.247   \n",
       "1           attack  Not fleeing        False   -122.892    45.487   \n",
       "2            other  Not fleeing        False    -97.281    37.695   \n",
       "3           attack  Not fleeing        False   -122.422    37.763   \n",
       "4           attack  Not fleeing        False   -104.692    40.384   \n",
       "...            ...          ...          ...        ...       ...   \n",
       "6414        attack          Car        False   -122.192    41.635   \n",
       "6415        attack  Not fleeing        False    -97.295    27.679   \n",
       "6416  undetermined          NaN        False   -103.322    41.752   \n",
       "6417  undetermined          NaN        False    -80.860    33.634   \n",
       "6418        attack  Not fleeing        False    -84.385    33.774   \n",
       "\n",
       "      is_geocoding_exact  \n",
       "0                   True  \n",
       "1                   True  \n",
       "2                   True  \n",
       "3                   True  \n",
       "4                   True  \n",
       "...                  ...  \n",
       "6414                True  \n",
       "6415                True  \n",
       "6416                True  \n",
       "6417                True  \n",
       "6418                True  \n",
       "\n",
       "[6419 rows x 17 columns]"
      ]
     },
     "execution_count": 10,
     "metadata": {},
     "output_type": "execute_result"
    }
   ],
   "source": [
    "mvt_df"
   ]
  },
  {
   "cell_type": "code",
   "execution_count": 11,
   "id": "8587faf4",
   "metadata": {},
   "outputs": [
    {
     "data": {
      "text/plain": [
       "W    2903\n",
       "B    1520\n",
       "H    1062\n",
       "A     104\n",
       "N      90\n",
       "O      47\n",
       "Name: race, dtype: int64"
      ]
     },
     "execution_count": 11,
     "metadata": {},
     "output_type": "execute_result"
    }
   ],
   "source": [
    "mvt_df.race.value_counts()"
   ]
  },
  {
   "cell_type": "markdown",
   "id": "49b32536",
   "metadata": {},
   "source": [
    "# Phân tích để trả lời các câu hỏi (tham khảo link dưới)"
   ]
  },
  {
   "cell_type": "markdown",
   "id": "96d3a3e8",
   "metadata": {},
   "source": [
    "## https://www.washingtonpost.com/graphics/investigations/police-shootings-database/"
   ]
  },
  {
   "cell_type": "markdown",
   "id": "80b11f72",
   "metadata": {},
   "source": [
    "## 1. Black Americans are killed at a much higher rate than White Americans"
   ]
  },
  {
   "cell_type": "markdown",
   "id": "1df1418e",
   "metadata": {},
   "source": [
    "- Tỉ lệ các chủng tộc bị bắn qua các năm, năm covid có thay đổi gì không. Qua đó cho tỉ lệ người mỹ đen bị bắn\n",
    "nhiều hơn mỹ trắng"
   ]
  },
  {
   "cell_type": "code",
   "execution_count": 12,
   "id": "133cab49",
   "metadata": {},
   "outputs": [],
   "source": [
    "#population = np.array([197,43,60,19,5,4]) * 1000000\n",
    "#race = pd.Series(population,index=['W','B','H','A','N','O'])\n",
    "#population = np.array([60.3,13.4,18.5,5.9,1.3,0.6]) * 3.28\n",
    "#race = pd.Series(population,index=['W','B','H','A','N','O'])\n",
    "#race"
   ]
  },
  {
   "cell_type": "markdown",
   "id": "f0e5d271",
   "metadata": {},
   "source": [
    " ### Dân số các chủng tốc ở mỹ hiện nay"
   ]
  },
  {
   "cell_type": "code",
   "execution_count": 13,
   "id": "136561bd",
   "metadata": {},
   "outputs": [
    {
     "data": {
      "text/plain": [
       "W    197.784\n",
       "B     43.952\n",
       "H     60.680\n",
       "A     19.352\n",
       "dtype: float64"
      ]
     },
     "execution_count": 13,
     "metadata": {},
     "output_type": "execute_result"
    }
   ],
   "source": [
    "population_ratio = np.array([60.3,13.4,18.5,5.9]) \n",
    "four_race_arr = ['W','B','H','A']\n",
    "race_census = pd.Series(population_ratio * 3.28, index = four_race_arr,)\n",
    "race_census"
   ]
  },
  {
   "cell_type": "code",
   "execution_count": 14,
   "id": "6874d17b",
   "metadata": {},
   "outputs": [
    {
     "data": {
      "text/plain": [
       "<AxesSubplot:xlabel='race', ylabel='Population (million)'>"
      ]
     },
     "execution_count": 14,
     "metadata": {},
     "output_type": "execute_result"
    },
    {
     "data": {
      "image/png": "[encoded data removed]",
      "text/plain": [
       "<Figure size 432x288 with 1 Axes>"
      ]
     },
     "metadata": {
      "needs_background": "light"
     },
     "output_type": "display_data"
    }
   ],
   "source": [
    "race_census.plot.bar(xlabel='race', ylabel= 'Population (million)')"
   ]
  },
  {
   "cell_type": "markdown",
   "id": "6f7a3087",
   "metadata": {},
   "source": [
    "### Số lượng người bị bắn theo chủng tộc"
   ]
  },
  {
   "cell_type": "code",
   "execution_count": 15,
   "id": "a45747f1",
   "metadata": {},
   "outputs": [
    {
     "data": {
      "text/plain": [
       "W    2903\n",
       "B    1520\n",
       "H    1062\n",
       "A     104\n",
       "Name: race, dtype: int64"
      ]
     },
     "execution_count": 15,
     "metadata": {},
     "output_type": "execute_result"
    }
   ],
   "source": [
    "four_race_us = mvt_df[mvt_df.race.isin(four_race_arr)]\n",
    "race_shootings = four_race_us.race.value_counts()\n",
    "race_shootings"
   ]
  },
  {
   "cell_type": "code",
   "execution_count": 16,
   "id": "addb53a4",
   "metadata": {},
   "outputs": [
    {
     "data": {
      "text/plain": [
       "<AxesSubplot:xlabel='race', ylabel='person are killed'>"
      ]
     },
     "execution_count": 16,
     "metadata": {},
     "output_type": "execute_result"
    },
    {
     "data": {
      "image/png": "[encoded data removed]",
      "text/plain": [
       "<Figure size 432x288 with 1 Axes>"
      ]
     },
     "metadata": {
      "needs_background": "light"
     },
     "output_type": "display_data"
    }
   ],
   "source": [
    "race_shootings.plot.bar(xlabel='race', ylabel= 'person are killed')"
   ]
  },
  {
   "cell_type": "markdown",
   "id": "04e66751",
   "metadata": {},
   "source": [
    "### Tỉ lệ người bị bắn trên 1 triệu người theo chủng tộc"
   ]
  },
  {
   "cell_type": "code",
   "execution_count": 17,
   "id": "46eec556",
   "metadata": {},
   "outputs": [
    {
     "data": {
      "text/plain": [
       "A     5\n",
       "W    14\n",
       "H    17\n",
       "B    34\n",
       "dtype: int64"
      ]
     },
     "execution_count": 17,
     "metadata": {},
     "output_type": "execute_result"
    }
   ],
   "source": [
    "s = (race_shootings / race_census).astype('int').sort_values()\n",
    "s"
   ]
  },
  {
   "cell_type": "code",
   "execution_count": 18,
   "id": "975c46df",
   "metadata": {},
   "outputs": [
    {
     "data": {
      "text/plain": [
       "<AxesSubplot:xlabel='race', ylabel='Person killed per million'>"
      ]
     },
     "execution_count": 18,
     "metadata": {},
     "output_type": "execute_result"
    },
    {
     "data": {
      "image/png": "[encoded data removed]",
      "text/plain": [
       "<Figure size 432x288 with 1 Axes>"
      ]
     },
     "metadata": {
      "needs_background": "light"
     },
     "output_type": "display_data"
    }
   ],
   "source": [
    "s.plot.bar(xlabel='race', ylabel= 'Person killed per million')"
   ]
  },
  {
   "cell_type": "markdown",
   "id": "7552cdfa",
   "metadata": {},
   "source": [
    "## 3. Most victims are young, male"
   ]
  },
  {
   "cell_type": "markdown",
   "id": "10e6adfb",
   "metadata": {},
   "source": [
    "- Tỷ lệ các nạn nhân trẻ thay đổi qua các năm và dấu hiệu của thần kinh, liên quan đến ma túy\n"
   ]
  },
  {
   "cell_type": "code",
   "execution_count": 23,
   "id": "e21d72b8",
   "metadata": {},
   "outputs": [],
   "source": [
    "#plt.rcParams[\"figure.figsize\"] = (21,30)\n",
    "#j = 2015\n",
    "#for i in range(7):\n",
    " #   plt.subplot(7,1,i+1)\n",
    " #   num_thefts_each_month_df[j+i].plot.line(xlabel = 'Month', ylabel = 'NumThefts', marker='o')"
   ]
  },
  {
   "cell_type": "code",
   "execution_count": null,
   "id": "32c636e5",
   "metadata": {},
   "outputs": [],
   "source": []
  },
  {
   "cell_type": "markdown",
   "id": "9a87c1ab",
   "metadata": {},
   "source": [
    "\n",
    "## 2. Shootings happen across the country"
   ]
  },
  {
   "cell_type": "markdown",
   "id": "6fc6d2b0",
   "metadata": {},
   "source": [
    "- Các bang, vùng nào có tỷ lệ bắn nhiều nhất"
   ]
  },
  {
   "cell_type": "markdown",
   "id": "de07cd48",
   "metadata": {},
   "source": [
    "- https://www.kaggle.com/aviral24/us-police-shooting"
   ]
  },
  {
   "cell_type": "markdown",
   "id": "2c4d9d75",
   "metadata": {},
   "source": [
    "- https://databricks.com/blog/2020/11/16/fatal-force-exploring-police-shootings-with-sql-analytics.html"
   ]
  },
  {
   "cell_type": "markdown",
   "id": "f1cf21be",
   "metadata": {},
   "source": [
    "### Dân số các bang ở mỹ"
   ]
  },
  {
   "cell_type": "code",
   "execution_count": 24,
   "id": "aa7493e7",
   "metadata": {},
   "outputs": [
    {
     "data": {
      "text/html": [
       "<div>\n",
       "<style scoped>\n",
       "    .dataframe tbody tr th:only-of-type {\n",
       "        vertical-align: middle;\n",
       "    }\n",
       "\n",
       "    .dataframe tbody tr th {\n",
       "        vertical-align: top;\n",
       "    }\n",
       "\n",
       "    .dataframe thead th {\n",
       "        text-align: right;\n",
       "    }\n",
       "</style>\n",
       "<table border=\"1\" class=\"dataframe\">\n",
       "  <thead>\n",
       "    <tr style=\"text-align: right;\">\n",
       "      <th></th>\n",
       "      <th>State</th>\n",
       "      <th>Population</th>\n",
       "    </tr>\n",
       "  </thead>\n",
       "  <tbody>\n",
       "    <tr>\n",
       "      <th>0</th>\n",
       "      <td>AL</td>\n",
       "      <td>4903185</td>\n",
       "    </tr>\n",
       "    <tr>\n",
       "      <th>1</th>\n",
       "      <td>AK</td>\n",
       "      <td>731545</td>\n",
       "    </tr>\n",
       "    <tr>\n",
       "      <th>2</th>\n",
       "      <td>AZ</td>\n",
       "      <td>7278717</td>\n",
       "    </tr>\n",
       "    <tr>\n",
       "      <th>3</th>\n",
       "      <td>AR</td>\n",
       "      <td>3017804</td>\n",
       "    </tr>\n",
       "    <tr>\n",
       "      <th>4</th>\n",
       "      <td>CA</td>\n",
       "      <td>39512223</td>\n",
       "    </tr>\n",
       "    <tr>\n",
       "      <th>5</th>\n",
       "      <td>CO</td>\n",
       "      <td>5758736</td>\n",
       "    </tr>\n",
       "    <tr>\n",
       "      <th>6</th>\n",
       "      <td>CT</td>\n",
       "      <td>3565287</td>\n",
       "    </tr>\n",
       "    <tr>\n",
       "      <th>7</th>\n",
       "      <td>DE</td>\n",
       "      <td>973764</td>\n",
       "    </tr>\n",
       "    <tr>\n",
       "      <th>8</th>\n",
       "      <td>DC</td>\n",
       "      <td>705749</td>\n",
       "    </tr>\n",
       "    <tr>\n",
       "      <th>9</th>\n",
       "      <td>FL</td>\n",
       "      <td>21477737</td>\n",
       "    </tr>\n",
       "  </tbody>\n",
       "</table>\n",
       "</div>"
      ],
      "text/plain": [
       "  State  Population\n",
       "0    AL     4903185\n",
       "1    AK      731545\n",
       "2    AZ     7278717\n",
       "3    AR     3017804\n",
       "4    CA    39512223\n",
       "5    CO     5758736\n",
       "6    CT     3565287\n",
       "7    DE      973764\n",
       "8    DC      705749\n",
       "9    FL    21477737"
      ]
     },
     "execution_count": 24,
     "metadata": {},
     "output_type": "execute_result"
    }
   ],
   "source": [
    "#https://www.ers.usda.gov/data-products/county-level-data-sets/download-data/\n",
    "f = pd.read_excel(\"state.xls\",skiprows = 2, index_col = 'State')\n",
    "d = f[f.FIPStxt % 1000 == 0].POP_ESTIMATE_2019.drop(labels = ['US','PR']).to_frame()\n",
    "d = d.reset_index().rename(columns={'POP_ESTIMATE_2019': 'Population'})\n",
    "d.head(10)"
   ]
  },
  {
   "cell_type": "markdown",
   "id": "e23a9d9a",
   "metadata": {},
   "source": [
    "### Số lượng người bị bắn ở các bang"
   ]
  },
  {
   "cell_type": "code",
   "execution_count": 25,
   "id": "906ba8d6",
   "metadata": {},
   "outputs": [
    {
     "data": {
      "text/html": [
       "<div>\n",
       "<style scoped>\n",
       "    .dataframe tbody tr th:only-of-type {\n",
       "        vertical-align: middle;\n",
       "    }\n",
       "\n",
       "    .dataframe tbody tr th {\n",
       "        vertical-align: top;\n",
       "    }\n",
       "\n",
       "    .dataframe thead th {\n",
       "        text-align: right;\n",
       "    }\n",
       "</style>\n",
       "<table border=\"1\" class=\"dataframe\">\n",
       "  <thead>\n",
       "    <tr style=\"text-align: right;\">\n",
       "      <th></th>\n",
       "      <th>State</th>\n",
       "      <th>Total</th>\n",
       "    </tr>\n",
       "  </thead>\n",
       "  <tbody>\n",
       "    <tr>\n",
       "      <th>0</th>\n",
       "      <td>CA</td>\n",
       "      <td>948</td>\n",
       "    </tr>\n",
       "    <tr>\n",
       "      <th>1</th>\n",
       "      <td>TX</td>\n",
       "      <td>570</td>\n",
       "    </tr>\n",
       "    <tr>\n",
       "      <th>2</th>\n",
       "      <td>FL</td>\n",
       "      <td>421</td>\n",
       "    </tr>\n",
       "    <tr>\n",
       "      <th>3</th>\n",
       "      <td>AZ</td>\n",
       "      <td>298</td>\n",
       "    </tr>\n",
       "    <tr>\n",
       "      <th>4</th>\n",
       "      <td>CO</td>\n",
       "      <td>232</td>\n",
       "    </tr>\n",
       "    <tr>\n",
       "      <th>5</th>\n",
       "      <td>GA</td>\n",
       "      <td>231</td>\n",
       "    </tr>\n",
       "    <tr>\n",
       "      <th>6</th>\n",
       "      <td>OK</td>\n",
       "      <td>189</td>\n",
       "    </tr>\n",
       "    <tr>\n",
       "      <th>7</th>\n",
       "      <td>NC</td>\n",
       "      <td>182</td>\n",
       "    </tr>\n",
       "    <tr>\n",
       "      <th>8</th>\n",
       "      <td>OH</td>\n",
       "      <td>181</td>\n",
       "    </tr>\n",
       "    <tr>\n",
       "      <th>9</th>\n",
       "      <td>WA</td>\n",
       "      <td>176</td>\n",
       "    </tr>\n",
       "  </tbody>\n",
       "</table>\n",
       "</div>"
      ],
      "text/plain": [
       "  State  Total\n",
       "0    CA    948\n",
       "1    TX    570\n",
       "2    FL    421\n",
       "3    AZ    298\n",
       "4    CO    232\n",
       "5    GA    231\n",
       "6    OK    189\n",
       "7    NC    182\n",
       "8    OH    181\n",
       "9    WA    176"
      ]
     },
     "execution_count": 25,
     "metadata": {},
     "output_type": "execute_result"
    }
   ],
   "source": [
    "b = mvt_df.state.value_counts()\n",
    "b = b.to_frame().reset_index()\n",
    "b = b.rename(columns={'state': 'Total', 'index': 'State'})\n",
    "b.head(10)"
   ]
  },
  {
   "cell_type": "markdown",
   "id": "30599895",
   "metadata": {},
   "source": [
    "### Tỷ lệ trên 1 triệu người ở các bang"
   ]
  },
  {
   "cell_type": "code",
   "execution_count": 26,
   "id": "362a836b",
   "metadata": {},
   "outputs": [
    {
     "data": {
      "text/html": [
       "<div>\n",
       "<style scoped>\n",
       "    .dataframe tbody tr th:only-of-type {\n",
       "        vertical-align: middle;\n",
       "    }\n",
       "\n",
       "    .dataframe tbody tr th {\n",
       "        vertical-align: top;\n",
       "    }\n",
       "\n",
       "    .dataframe thead th {\n",
       "        text-align: right;\n",
       "    }\n",
       "</style>\n",
       "<table border=\"1\" class=\"dataframe\">\n",
       "  <thead>\n",
       "    <tr style=\"text-align: right;\">\n",
       "      <th></th>\n",
       "      <th>Population</th>\n",
       "      <th>Total</th>\n",
       "      <th>ratio</th>\n",
       "    </tr>\n",
       "    <tr>\n",
       "      <th>State</th>\n",
       "      <th></th>\n",
       "      <th></th>\n",
       "      <th></th>\n",
       "    </tr>\n",
       "  </thead>\n",
       "  <tbody>\n",
       "    <tr>\n",
       "      <th>AK</th>\n",
       "      <td>731545</td>\n",
       "      <td>45</td>\n",
       "      <td>61</td>\n",
       "    </tr>\n",
       "    <tr>\n",
       "      <th>NM</th>\n",
       "      <td>2096829</td>\n",
       "      <td>125</td>\n",
       "      <td>59</td>\n",
       "    </tr>\n",
       "    <tr>\n",
       "      <th>OK</th>\n",
       "      <td>3956971</td>\n",
       "      <td>189</td>\n",
       "      <td>47</td>\n",
       "    </tr>\n",
       "    <tr>\n",
       "      <th>AZ</th>\n",
       "      <td>7278717</td>\n",
       "      <td>298</td>\n",
       "      <td>40</td>\n",
       "    </tr>\n",
       "    <tr>\n",
       "      <th>CO</th>\n",
       "      <td>5758736</td>\n",
       "      <td>232</td>\n",
       "      <td>40</td>\n",
       "    </tr>\n",
       "    <tr>\n",
       "      <th>MT</th>\n",
       "      <td>1068778</td>\n",
       "      <td>39</td>\n",
       "      <td>36</td>\n",
       "    </tr>\n",
       "    <tr>\n",
       "      <th>NV</th>\n",
       "      <td>3080156</td>\n",
       "      <td>107</td>\n",
       "      <td>34</td>\n",
       "    </tr>\n",
       "    <tr>\n",
       "      <th>WV</th>\n",
       "      <td>1792147</td>\n",
       "      <td>60</td>\n",
       "      <td>33</td>\n",
       "    </tr>\n",
       "    <tr>\n",
       "      <th>AR</th>\n",
       "      <td>3017804</td>\n",
       "      <td>95</td>\n",
       "      <td>31</td>\n",
       "    </tr>\n",
       "    <tr>\n",
       "      <th>ID</th>\n",
       "      <td>1787065</td>\n",
       "      <td>50</td>\n",
       "      <td>27</td>\n",
       "    </tr>\n",
       "  </tbody>\n",
       "</table>\n",
       "</div>"
      ],
      "text/plain": [
       "       Population  Total  ratio\n",
       "State                          \n",
       "AK         731545     45     61\n",
       "NM        2096829    125     59\n",
       "OK        3956971    189     47\n",
       "AZ        7278717    298     40\n",
       "CO        5758736    232     40\n",
       "MT        1068778     39     36\n",
       "NV        3080156    107     34\n",
       "WV        1792147     60     33\n",
       "AR        3017804     95     31\n",
       "ID        1787065     50     27"
      ]
     },
     "execution_count": 26,
     "metadata": {},
     "output_type": "execute_result"
    }
   ],
   "source": [
    "ff = d.merge(b).set_index('State')\n",
    "ff['ratio'] = (ff.Total / ff.Population * 1000000).astype('int')\n",
    "ff = ff.sort_values(by='ratio', ascending=False)\n",
    "ff.head(10)"
   ]
  },
  {
   "cell_type": "code",
   "execution_count": null,
   "id": "169af422",
   "metadata": {},
   "outputs": [],
   "source": []
  }
 ],
 "metadata": {
  "kernelspec": {
   "display_name": "Python 3",
   "language": "python",
   "name": "python3"
  },
  "language_info": {
   "codemirror_mode": {
    "name": "ipython",
    "version": 3
   },
   "file_extension": ".py",
   "mimetype": "text/x-python",
   "name": "python",
   "nbconvert_exporter": "python",
   "pygments_lexer": "ipython3",
   "version": "3.8.8"
  }
 },
 "nbformat": 4,
 "nbformat_minor": 5
}
