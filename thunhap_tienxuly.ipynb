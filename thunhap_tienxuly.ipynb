{
 "cells": [
  {
   "cell_type": "markdown",
   "id": "9d987deb",
   "metadata": {
    "toc": true
   },
   "source": [
    "<h1>Mục lục<span class=\"tocSkip\"></span></h1>\n",
    "<div class=\"toc\"><ul class=\"toc-item\"><li><span><a href=\"#Import-các-thư-viện-cần-thiết\" data-toc-modified-id=\"Import-các-thư-viện-cần-thiết-1\">Import các thư viện cần thiết</a></span></li><li><span><a href=\"#Thu-thập-dữ-liệu\" data-toc-modified-id=\"Thu-thập-dữ-liệu-2\">Thu thập dữ liệu</a></span></li><li><span><a href=\"#Khám-phá-dữ-liệu\" data-toc-modified-id=\"Khám-phá-dữ-liệu-3\">Khám phá dữ liệu</a></span><ul class=\"toc-item\"><li><span><a href=\"#Đọc-dữ-liệu-từ-file-csv-vào-dataframe\" data-toc-modified-id=\"Đọc-dữ-liệu-từ-file-csv-vào-dataframe-3.1\">Đọc dữ liệu từ file csv vào dataframe</a></span></li><li><span><a href=\"#Dữ-liệu-gồm-có-bao-nhiêu-dòng-và-bao-nhiêu-cột?\" data-toc-modified-id=\"Dữ-liệu-gồm-có-bao-nhiêu-dòng-và-bao-nhiêu-cột?-3.2\">Dữ liệu gồm có bao nhiêu dòng và bao nhiêu cột?</a></span></li><li><span><a href=\"#Mỗi-dòng-có-ý-nghĩa-gì?-Có-vấn-đề-các-dòng-có-ý-nghĩa-khác-nhau-không?\" data-toc-modified-id=\"Mỗi-dòng-có-ý-nghĩa-gì?-Có-vấn-đề-các-dòng-có-ý-nghĩa-khác-nhau-không?-3.3\">Mỗi dòng có ý nghĩa gì? Có vấn đề các dòng có ý nghĩa khác nhau không?</a></span></li><li><span><a href=\"#Dữ-liệu-có-các-dòng-bị-lặp-không?\" data-toc-modified-id=\"Dữ-liệu-có-các-dòng-bị-lặp-không?-3.4\">Dữ liệu có các dòng bị lặp không?</a></span></li><li><span><a href=\"#Mỗi-cột-có-ý-nghĩa-gì?\" data-toc-modified-id=\"Mỗi-cột-có-ý-nghĩa-gì?-3.5\">Mỗi cột có ý nghĩa gì?</a></span></li><li><span><a href=\"#Mỗi-cột-hiện-đang-có-kiểu-dữ-liệu-gì?-Có-cột-nào-có-kiểu-dữ-liệu-chưa-phù-hợp-để-có-thể-xử-lý-tiếp-không?\" data-toc-modified-id=\"Mỗi-cột-hiện-đang-có-kiểu-dữ-liệu-gì?-Có-cột-nào-có-kiểu-dữ-liệu-chưa-phù-hợp-để-có-thể-xử-lý-tiếp-không?-3.6\">Mỗi cột hiện đang có kiểu dữ liệu gì? Có cột nào có kiểu dữ liệu chưa phù hợp để có thể xử lý tiếp không?</a></span></li></ul></li><li><span><a href=\"#Tiền-xử-lý\" data-toc-modified-id=\"Tiền-xử-lý-4\">Tiền xử lý</a></span><ul class=\"toc-item\"><li><span><a href=\"#Chuyển-dtype-của-cột-&quot;date&quot;-sang-datetime.\" data-toc-modified-id=\"Chuyển-dtype-của-cột-&quot;date&quot;-sang-datetime.-4.1\">Chuyển dtype của cột \"date\" sang datetime.</a></span></li></ul></li><li><span><a href=\"#Khám-phá-dữ-liệu-(tiếp-tục)\" data-toc-modified-id=\"Khám-phá-dữ-liệu-(tiếp-tục)-5\">Khám phá dữ liệu (tiếp tục)</a></span><ul class=\"toc-item\"><li><span><a href=\"#Với-mỗi-cột-có-kiểu-dữ-liệu-dạng-numeric,-các-giá-trị-được-phân-bố-như-thế-nào?\" data-toc-modified-id=\"Với-mỗi-cột-có-kiểu-dữ-liệu-dạng-numeric,-các-giá-trị-được-phân-bố-như-thế-nào?-5.1\">Với mỗi cột có kiểu dữ liệu dạng numeric, các giá trị được phân bố như thế nào?</a></span></li><li><span><a href=\"#Với-mỗi-cột-có-kiểu-dữ-liệu-dạng-categorical,-các-giá-trị-được-phân-bố-như-thế-nào?\" data-toc-modified-id=\"Với-mỗi-cột-có-kiểu-dữ-liệu-dạng-categorical,-các-giá-trị-được-phân-bố-như-thế-nào?-5.2\">Với mỗi cột có kiểu dữ liệu dạng categorical, các giá trị được phân bố như thế nào?</a></span></li></ul></li><li><span><a href=\"#Đưa-ra-các-câu-hỏi-cần-trả-lời\" data-toc-modified-id=\"Đưa-ra-các-câu-hỏi-cần-trả-lời-6\">Đưa ra các câu hỏi cần trả lời</a></span></li><li><span><a href=\"#Tiền-xử-lý\" data-toc-modified-id=\"Tiền-xử-lý-7\">Tiền xử lý</a></span><ul class=\"toc-item\"><li><span><a href=\"#Thêm-cột-&quot;month&quot;-và-&quot;year&quot;-vào-dataframe\" data-toc-modified-id=\"Thêm-cột-&quot;month&quot;-và-&quot;year&quot;-vào-dataframe-7.1\">Thêm cột \"month\" và \"year\" vào dataframe</a></span></li></ul></li><li><span><a href=\"#Phân-tích-dữ-liệu-để-trả-lời-cho-các-câu-hỏi\" data-toc-modified-id=\"Phân-tích-dữ-liệu-để-trả-lời-cho-các-câu-hỏi-8\">Phân tích dữ liệu để trả lời cho các câu hỏi</a></span><ul class=\"toc-item\"><li><span><a href=\"#Các-bang-nào-có-tỷ-lệ-vụ-nổ-súng-gây-tử-vong-cao-nhất-ở-Hoa-Kỳ?\" data-toc-modified-id=\"Các-bang-nào-có-tỷ-lệ-vụ-nổ-súng-gây-tử-vong-cao-nhất-ở-Hoa-Kỳ?-8.1\">Các bang nào có tỷ lệ vụ nổ súng gây tử vong cao nhất ở Hoa Kỳ?</a></span><ul class=\"toc-item\"><li><span><a href=\"#Code-bước-1.\" data-toc-modified-id=\"Code-bước-1.-8.1.1\">Code bước 1.</a></span></li><li><span><a href=\"#Code-bước-2.\" data-toc-modified-id=\"Code-bước-2.-8.1.2\">Code bước 2.</a></span></li><li><span><a href=\"#Code-bước-3.\" data-toc-modified-id=\"Code-bước-3.-8.1.3\">Code bước 3.</a></span></li><li><span><a href=\"#Code-bước-4.\" data-toc-modified-id=\"Code-bước-4.-8.1.4\">Code bước 4.</a></span></li></ul></li><li><span><a href=\"#So-sánh-tỉ-lệ-các-chủng-tộc-bị-bắn-ở-Hoa-Kỳ,-liệu-có-liên-quan-gì-đến-vấn-đề-phân-biệt-chủng-tộc?\" data-toc-modified-id=\"So-sánh-tỉ-lệ-các-chủng-tộc-bị-bắn-ở-Hoa-Kỳ,-liệu-có-liên-quan-gì-đến-vấn-đề-phân-biệt-chủng-tộc?-8.2\">So sánh tỉ lệ các chủng tộc bị bắn ở Hoa Kỳ, liệu có liên quan gì đến vấn đề phân biệt chủng tộc?</a></span><ul class=\"toc-item\"><li><span><a href=\"#Code-bước-1.\" data-toc-modified-id=\"Code-bước-1.-8.2.1\">Code bước 1.</a></span></li><li><span><a href=\"#Code-bước-2.\" data-toc-modified-id=\"Code-bước-2.-8.2.2\">Code bước 2.</a></span></li><li><span><a href=\"#Code-bước-3.\" data-toc-modified-id=\"Code-bước-3.-8.2.3\">Code bước 3.</a></span></li><li><span><a href=\"#Code-bước-4.\" data-toc-modified-id=\"Code-bước-4.-8.2.4\">Code bước 4.</a></span></li></ul></li><li><span><a href=\"#Trong-mỗi-năm-của-3-năm-gần-đây,-số-lượng-các-vụ-nổ-súng-thay-đổi-như-thế-nào-theo-tháng?\" data-toc-modified-id=\"Trong-mỗi-năm-của-3-năm-gần-đây,-số-lượng-các-vụ-nổ-súng-thay-đổi-như-thế-nào-theo-tháng?-8.3\">Trong mỗi năm của 3 năm gần đây, số lượng các vụ nổ súng thay đổi như thế nào theo tháng?</a></span><ul class=\"toc-item\"><li><span><a href=\"#Code-bước-1.\" data-toc-modified-id=\"Code-bước-1.-8.3.1\">Code bước 1.</a></span></li><li><span><a href=\"#Code-bước-2.\" data-toc-modified-id=\"Code-bước-2.-8.3.2\">Code bước 2.</a></span></li></ul></li></ul></li><li><span><a href=\"#Nhìn-lại-quá-trình-làm-đồ-án\" data-toc-modified-id=\"Nhìn-lại-quá-trình-làm-đồ-án-9\">Nhìn lại quá trình làm đồ án</a></span></li><li><span><a href=\"#Tài-liệu-tham-khảo\" data-toc-modified-id=\"Tài-liệu-tham-khảo-10\">Tài liệu tham khảo</a></span></li></ul></div>"
   ]
  },
  {
   "cell_type": "markdown",
   "id": "f431942d",
   "metadata": {},
   "source": [
    "## Import các thư viện cần thiết\n"
   ]
  },
  {
   "cell_type": "code",
   "execution_count": 1,
   "id": "5befe496",
   "metadata": {},
   "outputs": [],
   "source": [
    "import pandas as pd\n",
    "import numpy as np\n",
    "import matplotlib.pyplot as plt"
   ]
  },
  {
   "cell_type": "markdown",
   "id": "b01fd852",
   "metadata": {},
   "source": [
    "## Thu thập dữ liệu"
   ]
  },
  {
   "cell_type": "markdown",
   "id": "cc443636",
   "metadata": {},
   "source": [
    "Trong bài phân tích này, chúng em sẽ dùng dữ liệu đã được thu thập sẵn là file \"fatal-police-shootings-data.csv\" đính kèm. Đây dữ liệu của Washington Post chứa hồ sơ về mọi vụ nổ súng gây tử vong ở Hoa Kỳ của các sĩ quan cảnh sát đang thi hành công vụ kể từ ngày 1 tháng 1 năm 2015. Dữ liệu này được lấy từ nguồn GitHub được cập nhật thường xuyên và gốc của dữ liệu là [ở đây](https://github.com/washingtonpost/data-police-shootings).\n",
    "\n",
    "Theo mô tả trong file \"README.md\" từ nguồn GitHub được Washington Post public\n",
    ">In 2015, The Post began tracking more than a dozen details about each killing — including the race of the deceased, the circumstances of the shooting, whether the person was armed and whether the person was experiencing a mental-health crisis — by culling local news reports, law enforcement websites and social media, and by monitoring independent databases such as Killed by Police and Fatal Encounters. The Post conducted additional reporting in many cases.\n",
    "\n",
    ">The Post is documenting only those shootings in which a police officer, in the line of duty, shoots and kills a civilian — the circumstances that most closely parallel the 2014 killing of Michael Brown in Ferguson, Mo., which began the protest movement culminating in Black Lives Matter and an increased focus on police accountability nationwide. The Post is not tracking deaths of people in police custody, fatal shootings by off-duty officers or non-shooting deaths.\n",
    ">\n",
    ">The FBI and the Centers for Disease Control and Prevention log fatal shootings by police, but officials acknowledge that their data is incomplete. Since 2015, The Post has documented more than twice as many fatal shootings by police as recorded on average annually.\n",
    ">\n",
    ">The Post’s database is updated regularly as fatal shootings are reported and as facts emerge about individual cases. The Post seeks to make the database as comprehensive as possible. To provide information about fatal police shootings since Jan. 1, 2015, send us an email at policeshootingsfeedback@washpost.com.\n",
    "\n",
    "File \"fatal-police-shootings-data.csv\" mà chúng em đính kèm là file dữ liệu chính mà bạn sẽ làm trong bài tập này. Ngoài ra, chúng em còn đính kèm 1 file phụ: file \"state.xls\" là file cho biết dân số của các bang ở Mỹ vào năm 2019 và nguồn dữ liệu là [ở đây](https://www.ers.usda.gov/data-products/county-level-data-sets/download-data/\n",
    ")\n",
    "\n",
    "Cũng theo file \"README.md\", dữ liệu này được Washington Post public với license như sau:\n",
    ">The data is published under an Attribution-NonCommercial-ShareAlike 4.0 International (CC BY-NC-SA 4.0) license: https://creativecommons.org/licenses/by-nc-sa/4.0/\n",
    ">\n",
    ">About license: You are free to: Share - copy and redistribute the material in any medium or format. Adapt - remix, transform, and build upon the material. The licensor cannot revoke these freedoms as long as you follow the license terms."
   ]
  },
  {
   "cell_type": "markdown",
   "id": "379cdb07",
   "metadata": {},
   "source": [
    "## Khám phá dữ liệu "
   ]
  },
  {
   "cell_type": "markdown",
   "id": "8b4bae69",
   "metadata": {},
   "source": [
    "### Đọc dữ liệu từ file csv vào dataframe"
   ]
  },
  {
   "cell_type": "code",
   "execution_count": 2,
   "id": "b5a30ab1",
   "metadata": {},
   "outputs": [
    {
     "data": {
      "text/html": [
       "<div>\n",
       "<style scoped>\n",
       "    .dataframe tbody tr th:only-of-type {\n",
       "        vertical-align: middle;\n",
       "    }\n",
       "\n",
       "    .dataframe tbody tr th {\n",
       "        vertical-align: top;\n",
       "    }\n",
       "\n",
       "    .dataframe thead th {\n",
       "        text-align: right;\n",
       "    }\n",
       "</style>\n",
       "<table border=\"1\" class=\"dataframe\">\n",
       "  <thead>\n",
       "    <tr style=\"text-align: right;\">\n",
       "      <th></th>\n",
       "      <th>id</th>\n",
       "      <th>name</th>\n",
       "      <th>date</th>\n",
       "      <th>manner_of_death</th>\n",
       "      <th>armed</th>\n",
       "      <th>age</th>\n",
       "      <th>gender</th>\n",
       "      <th>race</th>\n",
       "      <th>city</th>\n",
       "      <th>state</th>\n",
       "      <th>signs_of_mental_illness</th>\n",
       "      <th>threat_level</th>\n",
       "      <th>flee</th>\n",
       "      <th>body_camera</th>\n",
       "      <th>longitude</th>\n",
       "      <th>latitude</th>\n",
       "      <th>is_geocoding_exact</th>\n",
       "    </tr>\n",
       "  </thead>\n",
       "  <tbody>\n",
       "    <tr>\n",
       "      <th>0</th>\n",
       "      <td>3</td>\n",
       "      <td>Tim Elliot</td>\n",
       "      <td>2015-01-02</td>\n",
       "      <td>shot</td>\n",
       "      <td>gun</td>\n",
       "      <td>53.0</td>\n",
       "      <td>M</td>\n",
       "      <td>A</td>\n",
       "      <td>Shelton</td>\n",
       "      <td>WA</td>\n",
       "      <td>True</td>\n",
       "      <td>attack</td>\n",
       "      <td>Not fleeing</td>\n",
       "      <td>False</td>\n",
       "      <td>-123.122</td>\n",
       "      <td>47.247</td>\n",
       "      <td>True</td>\n",
       "    </tr>\n",
       "    <tr>\n",
       "      <th>1</th>\n",
       "      <td>4</td>\n",
       "      <td>Lewis Lee Lembke</td>\n",
       "      <td>2015-01-02</td>\n",
       "      <td>shot</td>\n",
       "      <td>gun</td>\n",
       "      <td>47.0</td>\n",
       "      <td>M</td>\n",
       "      <td>W</td>\n",
       "      <td>Aloha</td>\n",
       "      <td>OR</td>\n",
       "      <td>False</td>\n",
       "      <td>attack</td>\n",
       "      <td>Not fleeing</td>\n",
       "      <td>False</td>\n",
       "      <td>-122.892</td>\n",
       "      <td>45.487</td>\n",
       "      <td>True</td>\n",
       "    </tr>\n",
       "    <tr>\n",
       "      <th>2</th>\n",
       "      <td>5</td>\n",
       "      <td>John Paul Quintero</td>\n",
       "      <td>2015-01-03</td>\n",
       "      <td>shot and Tasered</td>\n",
       "      <td>unarmed</td>\n",
       "      <td>23.0</td>\n",
       "      <td>M</td>\n",
       "      <td>H</td>\n",
       "      <td>Wichita</td>\n",
       "      <td>KS</td>\n",
       "      <td>False</td>\n",
       "      <td>other</td>\n",
       "      <td>Not fleeing</td>\n",
       "      <td>False</td>\n",
       "      <td>-97.281</td>\n",
       "      <td>37.695</td>\n",
       "      <td>True</td>\n",
       "    </tr>\n",
       "    <tr>\n",
       "      <th>3</th>\n",
       "      <td>8</td>\n",
       "      <td>Matthew Hoffman</td>\n",
       "      <td>2015-01-04</td>\n",
       "      <td>shot</td>\n",
       "      <td>toy weapon</td>\n",
       "      <td>32.0</td>\n",
       "      <td>M</td>\n",
       "      <td>W</td>\n",
       "      <td>San Francisco</td>\n",
       "      <td>CA</td>\n",
       "      <td>True</td>\n",
       "      <td>attack</td>\n",
       "      <td>Not fleeing</td>\n",
       "      <td>False</td>\n",
       "      <td>-122.422</td>\n",
       "      <td>37.763</td>\n",
       "      <td>True</td>\n",
       "    </tr>\n",
       "    <tr>\n",
       "      <th>4</th>\n",
       "      <td>9</td>\n",
       "      <td>Michael Rodriguez</td>\n",
       "      <td>2015-01-04</td>\n",
       "      <td>shot</td>\n",
       "      <td>nail gun</td>\n",
       "      <td>39.0</td>\n",
       "      <td>M</td>\n",
       "      <td>H</td>\n",
       "      <td>Evans</td>\n",
       "      <td>CO</td>\n",
       "      <td>False</td>\n",
       "      <td>attack</td>\n",
       "      <td>Not fleeing</td>\n",
       "      <td>False</td>\n",
       "      <td>-104.692</td>\n",
       "      <td>40.384</td>\n",
       "      <td>True</td>\n",
       "    </tr>\n",
       "  </tbody>\n",
       "</table>\n",
       "</div>"
      ],
      "text/plain": [
       "   id                name        date   manner_of_death       armed   age  \\\n",
       "0   3          Tim Elliot  2015-01-02              shot         gun  53.0   \n",
       "1   4    Lewis Lee Lembke  2015-01-02              shot         gun  47.0   \n",
       "2   5  John Paul Quintero  2015-01-03  shot and Tasered     unarmed  23.0   \n",
       "3   8     Matthew Hoffman  2015-01-04              shot  toy weapon  32.0   \n",
       "4   9   Michael Rodriguez  2015-01-04              shot    nail gun  39.0   \n",
       "\n",
       "  gender race           city state  signs_of_mental_illness threat_level  \\\n",
       "0      M    A        Shelton    WA                     True       attack   \n",
       "1      M    W          Aloha    OR                    False       attack   \n",
       "2      M    H        Wichita    KS                    False        other   \n",
       "3      M    W  San Francisco    CA                     True       attack   \n",
       "4      M    H          Evans    CO                    False       attack   \n",
       "\n",
       "          flee  body_camera  longitude  latitude  is_geocoding_exact  \n",
       "0  Not fleeing        False   -123.122    47.247                True  \n",
       "1  Not fleeing        False   -122.892    45.487                True  \n",
       "2  Not fleeing        False    -97.281    37.695                True  \n",
       "3  Not fleeing        False   -122.422    37.763                True  \n",
       "4  Not fleeing        False   -104.692    40.384                True  "
      ]
     },
     "execution_count": 2,
     "metadata": {},
     "output_type": "execute_result"
    }
   ],
   "source": [
    "mvt_df = pd.read_csv('data.csv')\n",
    "mvt_df.head()"
   ]
  },
  {
   "cell_type": "markdown",
   "id": "fbb7950b",
   "metadata": {},
   "source": [
    "### Dữ liệu gồm có bao nhiêu dòng và bao nhiêu cột? "
   ]
  },
  {
   "cell_type": "code",
   "execution_count": 3,
   "id": "cc01ff4f",
   "metadata": {},
   "outputs": [
    {
     "data": {
      "text/plain": [
       "(6419, 17)"
      ]
     },
     "execution_count": 3,
     "metadata": {},
     "output_type": "execute_result"
    }
   ],
   "source": [
    "mvt_df.shape"
   ]
  },
  {
   "cell_type": "markdown",
   "id": "8a06caa3",
   "metadata": {},
   "source": [
    "Dữ liệu gồm 6419 dòng và 17 cột."
   ]
  },
  {
   "cell_type": "markdown",
   "id": "c8a3cff7",
   "metadata": {},
   "source": [
    "### Mỗi dòng có ý nghĩa gì? Có vấn đề các dòng có ý nghĩa khác nhau không?"
   ]
  },
  {
   "cell_type": "markdown",
   "id": "b98a1150",
   "metadata": {},
   "source": [
    "Theo file mô tả dữ liệu và theo quan sát sơ bộ về dữ liệu thì một dòng cho biết thông tin chi tiết về  vụ nổ súng gây tử vong đối với một nạn nhân. Có vẻ không có dòng nào bị \"lạc loài\"."
   ]
  },
  {
   "cell_type": "markdown",
   "id": "b80bf203",
   "metadata": {},
   "source": [
    "### Dữ liệu có các dòng bị lặp không? "
   ]
  },
  {
   "cell_type": "code",
   "execution_count": 4,
   "id": "59701fb9",
   "metadata": {},
   "outputs": [
    {
     "data": {
      "text/plain": [
       "False"
      ]
     },
     "execution_count": 4,
     "metadata": {},
     "output_type": "execute_result"
    }
   ],
   "source": [
    "np.any(mvt_df.duplicated())"
   ]
  },
  {
   "cell_type": "markdown",
   "id": "43e98589",
   "metadata": {},
   "source": [
    "Không có dòng nào bị lặp."
   ]
  },
  {
   "cell_type": "markdown",
   "id": "aa333dc7",
   "metadata": {},
   "source": [
    "### Mỗi cột có ý nghĩa gì?"
   ]
  },
  {
   "cell_type": "markdown",
   "id": "f1942c7b",
   "metadata": {},
   "source": [
    "Theo file mô tả dữ liệu thì:\n",
    "- `id`: a unique identifier for each victim\n",
    "\n",
    "- `name`: the name of the victim\n",
    "\n",
    "- `date`: the date of the fatal shooting in YYYY-MM-DD format\n",
    "\n",
    "- `manner_of_death`:\n",
    "\n",
    "    - `shot`\n",
    "    - `shot and Tasered`\n",
    "- `armed`: indicates that the victim was armed with some sort of implement that a police officer believed could inflict harm\n",
    "\n",
    "    - `undetermined`: it is not known whether or not the victim had a weapon\n",
    "    - `unknown`: the victim was armed, but it is not known what the object was\n",
    "    - `unarmed`: the victim was not armed\n",
    "- `age`: the age of the victim\n",
    "\n",
    "- `gender`: the gender of the victim. The Post identifies victims by the gender they identify with if reports indicate that it differs from their biological sex.\n",
    "\n",
    "    - `M`: Male\n",
    "    - `F`: Female\n",
    "    - `None`: unknown\n",
    "- `race`:\n",
    "\n",
    "    - `W`: White, non-Hispanic\n",
    "    - `B`: Black, non-Hispanic\n",
    "    - `A`: Asian\n",
    "    - `N`: Native American\n",
    "    - `H`: Hispanic\n",
    "    - `O`: Other\n",
    "    - `None`: unknown\n",
    "- `city`: the municipality where the fatal shooting took place. Note that in some cases this field may contain a county name if a more specific municipality is unavailable or unknown.\n",
    "\n",
    "- `state`: two-letter postal code abbreviation\n",
    "\n",
    "- `signs of mental illness`: News reports have indicated the victim had a history of mental health issues, expressed suicidal intentions or was experiencing mental distress at the time of the shooting.\n",
    "\n",
    "- `threat_level`: The threat_level column was used to flag incidents for the story by Amy Brittain in October 2015. http://www.washingtonpost.com/sf/investigative/2015/10/24/on-duty-under-fire/ As described in the story, the general criteria for the attack label was that there was the most direct and immediate threat to life. That would include incidents where officers or others were shot at, threatened with a gun, attacked with other weapons or physical force, etc. The attack category is meant to flag the highest level of threat. The other and undetermined categories represent all remaining cases. Other includes many incidents where officers or others faced significant threats.\n",
    "\n",
    "- `flee`: News reports have indicated the victim was moving away from officers\n",
    "\n",
    "    - `Foot`\n",
    "    - `Car`\n",
    "    - `Not fleeing`\n",
    "    \n",
    "The threat column and the fleeing column are not necessarily related. For example, there is an incident in which the suspect is fleeing and at the same time turns to fire at gun at the officer. Also, attacks represent a status immediately before fatal shots by police while fleeing could begin slightly earlier and involve a chase.\n",
    "\n",
    "- `body_camera`: News reports have indicated an officer was wearing a body camera and it may have recorded some portion of the incident.\n",
    "\n",
    "- `latitude and longitude`: the location of the shooting expressed as WGS84 coordinates, geocoded from addresses. The coordinates are rounded to 3 decimal places, meaning they have a precision of about 80-100 meters within the contiguous U.S.\n",
    "\n",
    "- `is_geocoding_exact`: reflects the accuracy of the coordinates. true means that the coordinates are for the location of the shooting (within approximately 100 meters), while false means that coordinates are for the centroid of a larger region, such as the city or county where the shooting happened."
   ]
  },
  {
   "cell_type": "markdown",
   "id": "e2f0ac2d",
   "metadata": {},
   "source": [
    "### Mỗi cột hiện đang có kiểu dữ liệu gì? Có cột nào có kiểu dữ liệu chưa phù hợp để có thể xử lý tiếp không? "
   ]
  },
  {
   "cell_type": "code",
   "execution_count": 5,
   "id": "0e8f5320",
   "metadata": {},
   "outputs": [
    {
     "data": {
      "text/plain": [
       "id                           int64\n",
       "name                        object\n",
       "date                        object\n",
       "manner_of_death             object\n",
       "armed                       object\n",
       "age                        float64\n",
       "gender                      object\n",
       "race                        object\n",
       "city                        object\n",
       "state                       object\n",
       "signs_of_mental_illness       bool\n",
       "threat_level                object\n",
       "flee                        object\n",
       "body_camera                   bool\n",
       "longitude                  float64\n",
       "latitude                   float64\n",
       "is_geocoding_exact            bool\n",
       "dtype: object"
      ]
     },
     "execution_count": 5,
     "metadata": {},
     "output_type": "execute_result"
    }
   ],
   "source": [
    "mvt_df.dtypes"
   ]
  },
  {
   "cell_type": "markdown",
   "id": "0c37a10a",
   "metadata": {},
   "source": [
    "- Dữ liệu có 17 thuộc tính.\n",
    "- Nhìn chung hầu hết các thuộc tính đều có kiểu dữ liệu phù hợp. Riêng cột `date` có kiểu dữ liệu `object `chưa phù hợp."
   ]
  },
  {
   "cell_type": "markdown",
   "id": "1c9c5384",
   "metadata": {},
   "source": [
    "**Vấn đề cần tiền xử lý:**\n",
    "Do Cột `date` đang có dtype là `object`. Để có thể tiếp tục khám phá thêm về cột này, chúng em sẽ thực hiện bước tiền xử lý là chuyển sang dạng `datetime`."
   ]
  },
  {
   "cell_type": "markdown",
   "id": "bbb182fd",
   "metadata": {},
   "source": [
    "## Tiền xử lý"
   ]
  },
  {
   "cell_type": "markdown",
   "id": "ccf6f743",
   "metadata": {},
   "source": [
    "### Chuyển dtype của cột \"date\" sang datetime."
   ]
  },
  {
   "cell_type": "code",
   "execution_count": 6,
   "id": "8458c220",
   "metadata": {},
   "outputs": [
    {
     "name": "stdout",
     "output_type": "stream",
     "text": [
      "datetime64[ns]\n"
     ]
    }
   ],
   "source": [
    "mvt_df['date'] = pd.to_datetime(mvt_df['date'], format=\"%Y-%m-%d\")\n",
    "print(mvt_df['date'].dtype)"
   ]
  },
  {
   "cell_type": "markdown",
   "id": "5fb7db36",
   "metadata": {},
   "source": [
    "## Khám phá dữ liệu (tiếp tục)"
   ]
  },
  {
   "cell_type": "markdown",
   "id": "89e816f5",
   "metadata": {},
   "source": [
    "### Với mỗi cột có kiểu dữ liệu dạng numeric, các giá trị được phân bố như thế nào? "
   ]
  },
  {
   "cell_type": "markdown",
   "id": "225ce14a",
   "metadata": {},
   "source": [
    "`mvt_df` có 4 cột numeric là: \"date\", \"age\", \"longitude\", \"latitude\". \n",
    "\n",
    "Với mỗi cột numeric nhóm sẽ tính tỉ lệ % giá trị thiếu (từ 0 đến 100), min, max. Lưu kết quả vào dataframe `nume_col_profiles_df`. Dataframe này có 3 dòng là \"missing_ratio\", \"min\", \"max\"; và có 4 cột numeric.  "
   ]
  },
  {
   "cell_type": "code",
   "execution_count": 7,
   "id": "d32b918f",
   "metadata": {},
   "outputs": [
    {
     "data": {
      "text/html": [
       "<div>\n",
       "<style scoped>\n",
       "    .dataframe tbody tr th:only-of-type {\n",
       "        vertical-align: middle;\n",
       "    }\n",
       "\n",
       "    .dataframe tbody tr th {\n",
       "        vertical-align: top;\n",
       "    }\n",
       "\n",
       "    .dataframe thead th {\n",
       "        text-align: right;\n",
       "    }\n",
       "</style>\n",
       "<table border=\"1\" class=\"dataframe\">\n",
       "  <thead>\n",
       "    <tr style=\"text-align: right;\">\n",
       "      <th></th>\n",
       "      <th>date</th>\n",
       "      <th>age</th>\n",
       "      <th>longitude</th>\n",
       "      <th>latitude</th>\n",
       "    </tr>\n",
       "  </thead>\n",
       "  <tbody>\n",
       "    <tr>\n",
       "      <th>missing_ratio</th>\n",
       "      <td>0.0</td>\n",
       "      <td>4.548995</td>\n",
       "      <td>4.844991</td>\n",
       "      <td>4.844991</td>\n",
       "    </tr>\n",
       "    <tr>\n",
       "      <th>min</th>\n",
       "      <td>2015-01-02 00:00:00</td>\n",
       "      <td>6.000000</td>\n",
       "      <td>-158.137000</td>\n",
       "      <td>19.498000</td>\n",
       "    </tr>\n",
       "    <tr>\n",
       "      <th>max</th>\n",
       "      <td>2021-06-30 00:00:00</td>\n",
       "      <td>91.000000</td>\n",
       "      <td>-67.867000</td>\n",
       "      <td>71.301000</td>\n",
       "    </tr>\n",
       "  </tbody>\n",
       "</table>\n",
       "</div>"
      ],
      "text/plain": [
       "                              date        age   longitude   latitude\n",
       "missing_ratio                  0.0   4.548995    4.844991   4.844991\n",
       "min            2015-01-02 00:00:00   6.000000 -158.137000  19.498000\n",
       "max            2021-06-30 00:00:00  91.000000  -67.867000  71.301000"
      ]
     },
     "execution_count": 7,
     "metadata": {},
     "output_type": "execute_result"
    }
   ],
   "source": [
    "# YOUR CODE HERE\n",
    "numeric_arr = [\"date\", \"age\", \"longitude\", \"latitude\"]\n",
    "\n",
    "def missing_ratio(s):\n",
    "    return s.isna().mean() * 100\n",
    "nume_col_profiles_df = mvt_df[numeric_arr].agg([missing_ratio, min, max])\n",
    "nume_col_profiles_df"
   ]
  },
  {
   "cell_type": "markdown",
   "id": "e2c7c0bd",
   "metadata": {},
   "source": [
    "Missing_ratio và max của các cột có vẻ không có gì bất thường ngoại trừ min, với độ tuổi thấp nhất là 6. Điều này cho thấy "
   ]
  },
  {
   "cell_type": "markdown",
   "id": "93f67378",
   "metadata": {},
   "source": [
    "### Với mỗi cột có kiểu dữ liệu dạng categorical, các giá trị được phân bố như thế nào? "
   ]
  },
  {
   "cell_type": "markdown",
   "id": "cca28c11",
   "metadata": {},
   "source": [
    "`mvt_df` có 13 cột categorical là: \"id\", \"name\", \"manner_of_death\", \"armed\", \"gender\", \"race\", \"city\", \"state\" \n",
    "          , \"signs_of_mental_illness\", \"threat_level\", \"flee\", \"body_camera\", \"is_geocoding_exact\".\n",
    "\n",
    "Với mỗi cột categorical, nhóm tính tỉ lệ % giá trị thiếu (từ 0 đến 100), số lượng giá trị khác nhau, list/array các giá trị khác nhau. Lưu kết quả vào dataframe `cate_col_profiles_df`. Dataframe này có 3 dòng là \"missing_ratio\", \"num_diff_vals\", \"diff_vals\"; và có 13 cột categorical."
   ]
  },
  {
   "cell_type": "code",
   "execution_count": 8,
   "id": "1f2107ae",
   "metadata": {},
   "outputs": [
    {
     "data": {
      "text/html": [
       "<div>\n",
       "<style scoped>\n",
       "    .dataframe tbody tr th:only-of-type {\n",
       "        vertical-align: middle;\n",
       "    }\n",
       "\n",
       "    .dataframe tbody tr th {\n",
       "        vertical-align: top;\n",
       "    }\n",
       "\n",
       "    .dataframe thead th {\n",
       "        text-align: right;\n",
       "    }\n",
       "</style>\n",
       "<table border=\"1\" class=\"dataframe\">\n",
       "  <thead>\n",
       "    <tr style=\"text-align: right;\">\n",
       "      <th></th>\n",
       "      <th>id</th>\n",
       "      <th>name</th>\n",
       "      <th>manner_of_death</th>\n",
       "      <th>armed</th>\n",
       "      <th>gender</th>\n",
       "      <th>race</th>\n",
       "      <th>city</th>\n",
       "      <th>state</th>\n",
       "      <th>signs_of_mental_illness</th>\n",
       "      <th>threat_level</th>\n",
       "      <th>flee</th>\n",
       "      <th>body_camera</th>\n",
       "      <th>is_geocoding_exact</th>\n",
       "    </tr>\n",
       "  </thead>\n",
       "  <tbody>\n",
       "    <tr>\n",
       "      <th>missing_ratio</th>\n",
       "      <td>0.0</td>\n",
       "      <td>3.754479</td>\n",
       "      <td>0.0</td>\n",
       "      <td>3.24038</td>\n",
       "      <td>0.015579</td>\n",
       "      <td>10.796074</td>\n",
       "      <td>0.0</td>\n",
       "      <td>0.0</td>\n",
       "      <td>0.0</td>\n",
       "      <td>0.0</td>\n",
       "      <td>6.761178</td>\n",
       "      <td>0.0</td>\n",
       "      <td>0.0</td>\n",
       "    </tr>\n",
       "    <tr>\n",
       "      <th>num_diff_vals</th>\n",
       "      <td>6419</td>\n",
       "      <td>6160</td>\n",
       "      <td>2</td>\n",
       "      <td>99</td>\n",
       "      <td>3</td>\n",
       "      <td>7</td>\n",
       "      <td>2778</td>\n",
       "      <td>51</td>\n",
       "      <td>2</td>\n",
       "      <td>3</td>\n",
       "      <td>5</td>\n",
       "      <td>2</td>\n",
       "      <td>2</td>\n",
       "    </tr>\n",
       "    <tr>\n",
       "      <th>diff_vals</th>\n",
       "      <td>[3, 4, 5, 8, 9, 11, 13, 15, 16, 17, 19, 21, 22...</td>\n",
       "      <td>[Tim Elliot, Lewis Lee Lembke, John Paul Quint...</td>\n",
       "      <td>[shot, shot and Tasered]</td>\n",
       "      <td>[gun, unarmed, toy weapon, nail gun, knife, na...</td>\n",
       "      <td>[M, F, nan]</td>\n",
       "      <td>[A, W, H, B, O, nan, N]</td>\n",
       "      <td>[Shelton, Aloha, Wichita, San Francisco, Evans...</td>\n",
       "      <td>[WA, OR, KS, CA, CO, OK, AZ, IA, PA, TX, OH, L...</td>\n",
       "      <td>[True, False]</td>\n",
       "      <td>[attack, other, undetermined]</td>\n",
       "      <td>[Not fleeing, Car, Foot, Other, nan]</td>\n",
       "      <td>[False, True]</td>\n",
       "      <td>[True, False]</td>\n",
       "    </tr>\n",
       "  </tbody>\n",
       "</table>\n",
       "</div>"
      ],
      "text/plain": [
       "                                                              id  \\\n",
       "missing_ratio                                                0.0   \n",
       "num_diff_vals                                               6419   \n",
       "diff_vals      [3, 4, 5, 8, 9, 11, 13, 15, 16, 17, 19, 21, 22...   \n",
       "\n",
       "                                                            name  \\\n",
       "missing_ratio                                           3.754479   \n",
       "num_diff_vals                                               6160   \n",
       "diff_vals      [Tim Elliot, Lewis Lee Lembke, John Paul Quint...   \n",
       "\n",
       "                        manner_of_death  \\\n",
       "missing_ratio                       0.0   \n",
       "num_diff_vals                         2   \n",
       "diff_vals      [shot, shot and Tasered]   \n",
       "\n",
       "                                                           armed       gender  \\\n",
       "missing_ratio                                            3.24038     0.015579   \n",
       "num_diff_vals                                                 99            3   \n",
       "diff_vals      [gun, unarmed, toy weapon, nail gun, knife, na...  [M, F, nan]   \n",
       "\n",
       "                                  race  \\\n",
       "missing_ratio                10.796074   \n",
       "num_diff_vals                        7   \n",
       "diff_vals      [A, W, H, B, O, nan, N]   \n",
       "\n",
       "                                                            city  \\\n",
       "missing_ratio                                                0.0   \n",
       "num_diff_vals                                               2778   \n",
       "diff_vals      [Shelton, Aloha, Wichita, San Francisco, Evans...   \n",
       "\n",
       "                                                           state  \\\n",
       "missing_ratio                                                0.0   \n",
       "num_diff_vals                                                 51   \n",
       "diff_vals      [WA, OR, KS, CA, CO, OK, AZ, IA, PA, TX, OH, L...   \n",
       "\n",
       "              signs_of_mental_illness                   threat_level  \\\n",
       "missing_ratio                     0.0                            0.0   \n",
       "num_diff_vals                       2                              3   \n",
       "diff_vals               [True, False]  [attack, other, undetermined]   \n",
       "\n",
       "                                               flee    body_camera  \\\n",
       "missing_ratio                              6.761178            0.0   \n",
       "num_diff_vals                                     5              2   \n",
       "diff_vals      [Not fleeing, Car, Foot, Other, nan]  [False, True]   \n",
       "\n",
       "              is_geocoding_exact  \n",
       "missing_ratio                0.0  \n",
       "num_diff_vals                  2  \n",
       "diff_vals          [True, False]  "
      ]
     },
     "execution_count": 8,
     "metadata": {},
     "output_type": "execute_result"
    }
   ],
   "source": [
    "# YOUR CODE HERE\n",
    "categorical_arr = [\"id\", \"name\", \"manner_of_death\", \"armed\", \"gender\", \"race\", \"city\",\"state\" \n",
    "                   ,\"signs_of_mental_illness\", \"threat_level\", \"flee\", \"body_camera\", \"is_geocoding_exact\"]\n",
    "def num_diff_vals(s):    #số lượng giá trị khác nhau\n",
    "    return pd.Series.nunique(s, False) \n",
    "\n",
    "def diff_vals(s):       #list/array các giá trị khác nhau\n",
    "    return pd.Series.unique(s)\n",
    "\n",
    "cate_col_profiles_df = mvt_df[categorical_arr].agg([missing_ratio, num_diff_vals, diff_vals])\n",
    "cate_col_profiles_df"
   ]
  },
  {
   "cell_type": "code",
   "execution_count": 9,
   "id": "0acc105b",
   "metadata": {
    "scrolled": true
   },
   "outputs": [
    {
     "data": {
      "text/plain": [
       "threat_level\n",
       "attack          37.516936\n",
       "other           36.308580\n",
       "undetermined    35.926966\n",
       "Name: age, dtype: float64"
      ]
     },
     "execution_count": 9,
     "metadata": {},
     "output_type": "execute_result"
    }
   ],
   "source": [
    "mvt_df.groupby('threat_level').age.mean()"
   ]
  },
  {
   "cell_type": "markdown",
   "id": "49b32536",
   "metadata": {},
   "source": [
    "## Đưa ra các câu hỏi cần trả lời"
   ]
  },
  {
   "cell_type": "markdown",
   "id": "3b009122",
   "metadata": {},
   "source": [
    "Sau khi đã khám phá dữ liệu và hiểu hơn về dữ liệu, nhóm thấy có một số câu hỏi có thể được trả lời bằng dữ liệu:\n",
    "- Các bang nào có tỷ lệ vụ nổ súng gây tử vong cao nhất ở Hoa Kỳ?\n",
    "- So sánh tỉ lệ các chủng tộc bị bắn ở Hoa Kỳ, liệu có liên quan gì đến vấn đề phân biệt chủng tộc?\n",
    "- Trong mỗi năm của 3 năm gần đây, số lượng các vụ nổ súng thay đổi như thế nào theo tháng?"
   ]
  },
  {
   "cell_type": "markdown",
   "id": "e5b69f28",
   "metadata": {},
   "source": [
    "## Tiền xử lý"
   ]
  },
  {
   "cell_type": "markdown",
   "id": "a9c85297",
   "metadata": {},
   "source": [
    "### Thêm cột \"month\" và \"year\" vào dataframe "
   ]
  },
  {
   "cell_type": "markdown",
   "id": "062bc69f",
   "metadata": {},
   "source": [
    "Trong các câu hỏi ở trên, có câu cần đến thông tin về tháng của vụ nổ súng. Do đó, trước khi phân tích để trả lời cho các câu hỏi, nhóm tiền xử lý bằng cách thêm cột \"year\" (năm xảy ra vụ nổ súng) và cột \"month\" (tháng xảy ra vụ nổ súng) vào `mvt_df`."
   ]
  },
  {
   "cell_type": "code",
   "execution_count": 13,
   "id": "5188fd41",
   "metadata": {
    "scrolled": true
   },
   "outputs": [
    {
     "data": {
      "text/html": [
       "<div>\n",
       "<style scoped>\n",
       "    .dataframe tbody tr th:only-of-type {\n",
       "        vertical-align: middle;\n",
       "    }\n",
       "\n",
       "    .dataframe tbody tr th {\n",
       "        vertical-align: top;\n",
       "    }\n",
       "\n",
       "    .dataframe thead th {\n",
       "        text-align: right;\n",
       "    }\n",
       "</style>\n",
       "<table border=\"1\" class=\"dataframe\">\n",
       "  <thead>\n",
       "    <tr style=\"text-align: right;\">\n",
       "      <th></th>\n",
       "      <th>id</th>\n",
       "      <th>name</th>\n",
       "      <th>date</th>\n",
       "      <th>manner_of_death</th>\n",
       "      <th>armed</th>\n",
       "      <th>age</th>\n",
       "      <th>gender</th>\n",
       "      <th>race</th>\n",
       "      <th>city</th>\n",
       "      <th>state</th>\n",
       "      <th>signs_of_mental_illness</th>\n",
       "      <th>threat_level</th>\n",
       "      <th>flee</th>\n",
       "      <th>body_camera</th>\n",
       "      <th>longitude</th>\n",
       "      <th>latitude</th>\n",
       "      <th>is_geocoding_exact</th>\n",
       "      <th>year</th>\n",
       "      <th>month</th>\n",
       "    </tr>\n",
       "  </thead>\n",
       "  <tbody>\n",
       "    <tr>\n",
       "      <th>0</th>\n",
       "      <td>3</td>\n",
       "      <td>Tim Elliot</td>\n",
       "      <td>2015-01-02</td>\n",
       "      <td>shot</td>\n",
       "      <td>gun</td>\n",
       "      <td>53.0</td>\n",
       "      <td>M</td>\n",
       "      <td>A</td>\n",
       "      <td>Shelton</td>\n",
       "      <td>WA</td>\n",
       "      <td>True</td>\n",
       "      <td>attack</td>\n",
       "      <td>Not fleeing</td>\n",
       "      <td>False</td>\n",
       "      <td>-123.122</td>\n",
       "      <td>47.247</td>\n",
       "      <td>True</td>\n",
       "      <td>2015</td>\n",
       "      <td>1</td>\n",
       "    </tr>\n",
       "    <tr>\n",
       "      <th>1</th>\n",
       "      <td>4</td>\n",
       "      <td>Lewis Lee Lembke</td>\n",
       "      <td>2015-01-02</td>\n",
       "      <td>shot</td>\n",
       "      <td>gun</td>\n",
       "      <td>47.0</td>\n",
       "      <td>M</td>\n",
       "      <td>W</td>\n",
       "      <td>Aloha</td>\n",
       "      <td>OR</td>\n",
       "      <td>False</td>\n",
       "      <td>attack</td>\n",
       "      <td>Not fleeing</td>\n",
       "      <td>False</td>\n",
       "      <td>-122.892</td>\n",
       "      <td>45.487</td>\n",
       "      <td>True</td>\n",
       "      <td>2015</td>\n",
       "      <td>1</td>\n",
       "    </tr>\n",
       "    <tr>\n",
       "      <th>2</th>\n",
       "      <td>5</td>\n",
       "      <td>John Paul Quintero</td>\n",
       "      <td>2015-01-03</td>\n",
       "      <td>shot and Tasered</td>\n",
       "      <td>unarmed</td>\n",
       "      <td>23.0</td>\n",
       "      <td>M</td>\n",
       "      <td>H</td>\n",
       "      <td>Wichita</td>\n",
       "      <td>KS</td>\n",
       "      <td>False</td>\n",
       "      <td>other</td>\n",
       "      <td>Not fleeing</td>\n",
       "      <td>False</td>\n",
       "      <td>-97.281</td>\n",
       "      <td>37.695</td>\n",
       "      <td>True</td>\n",
       "      <td>2015</td>\n",
       "      <td>1</td>\n",
       "    </tr>\n",
       "    <tr>\n",
       "      <th>3</th>\n",
       "      <td>8</td>\n",
       "      <td>Matthew Hoffman</td>\n",
       "      <td>2015-01-04</td>\n",
       "      <td>shot</td>\n",
       "      <td>toy weapon</td>\n",
       "      <td>32.0</td>\n",
       "      <td>M</td>\n",
       "      <td>W</td>\n",
       "      <td>San Francisco</td>\n",
       "      <td>CA</td>\n",
       "      <td>True</td>\n",
       "      <td>attack</td>\n",
       "      <td>Not fleeing</td>\n",
       "      <td>False</td>\n",
       "      <td>-122.422</td>\n",
       "      <td>37.763</td>\n",
       "      <td>True</td>\n",
       "      <td>2015</td>\n",
       "      <td>1</td>\n",
       "    </tr>\n",
       "    <tr>\n",
       "      <th>4</th>\n",
       "      <td>9</td>\n",
       "      <td>Michael Rodriguez</td>\n",
       "      <td>2015-01-04</td>\n",
       "      <td>shot</td>\n",
       "      <td>nail gun</td>\n",
       "      <td>39.0</td>\n",
       "      <td>M</td>\n",
       "      <td>H</td>\n",
       "      <td>Evans</td>\n",
       "      <td>CO</td>\n",
       "      <td>False</td>\n",
       "      <td>attack</td>\n",
       "      <td>Not fleeing</td>\n",
       "      <td>False</td>\n",
       "      <td>-104.692</td>\n",
       "      <td>40.384</td>\n",
       "      <td>True</td>\n",
       "      <td>2015</td>\n",
       "      <td>1</td>\n",
       "    </tr>\n",
       "  </tbody>\n",
       "</table>\n",
       "</div>"
      ],
      "text/plain": [
       "   id                name       date   manner_of_death       armed   age  \\\n",
       "0   3          Tim Elliot 2015-01-02              shot         gun  53.0   \n",
       "1   4    Lewis Lee Lembke 2015-01-02              shot         gun  47.0   \n",
       "2   5  John Paul Quintero 2015-01-03  shot and Tasered     unarmed  23.0   \n",
       "3   8     Matthew Hoffman 2015-01-04              shot  toy weapon  32.0   \n",
       "4   9   Michael Rodriguez 2015-01-04              shot    nail gun  39.0   \n",
       "\n",
       "  gender race           city state  signs_of_mental_illness threat_level  \\\n",
       "0      M    A        Shelton    WA                     True       attack   \n",
       "1      M    W          Aloha    OR                    False       attack   \n",
       "2      M    H        Wichita    KS                    False        other   \n",
       "3      M    W  San Francisco    CA                     True       attack   \n",
       "4      M    H          Evans    CO                    False       attack   \n",
       "\n",
       "          flee  body_camera  longitude  latitude  is_geocoding_exact  year  \\\n",
       "0  Not fleeing        False   -123.122    47.247                True  2015   \n",
       "1  Not fleeing        False   -122.892    45.487                True  2015   \n",
       "2  Not fleeing        False    -97.281    37.695                True  2015   \n",
       "3  Not fleeing        False   -122.422    37.763                True  2015   \n",
       "4  Not fleeing        False   -104.692    40.384                True  2015   \n",
       "\n",
       "   month  \n",
       "0      1  \n",
       "1      1  \n",
       "2      1  \n",
       "3      1  \n",
       "4      1  "
      ]
     },
     "execution_count": 13,
     "metadata": {},
     "output_type": "execute_result"
    }
   ],
   "source": [
    "mvt_df['year'] = mvt_df.date.dt.year\n",
    "mvt_df['month'] = mvt_df.date.dt.month\n",
    "mvt_df.head()"
   ]
  },
  {
   "cell_type": "markdown",
   "id": "735ce9ad",
   "metadata": {},
   "source": [
    "## Phân tích dữ liệu để trả lời cho các câu hỏi "
   ]
  },
  {
   "cell_type": "markdown",
   "id": "ebb4fd41",
   "metadata": {},
   "source": [
    "### Các bang nào có tỷ lệ vụ nổ súng gây tử vong cao nhất ở Hoa Kỳ?\n",
    "\n",
    "Để trả lời cho câu hỏi này, nhóm sẽ làm như sau:\n",
    "- Bước 1: Thống kê dân số từng bang ở Hoa Kỳ vào năm 2019 (Dân số các năm gần nhau chênh lệnh không đáng kể). Dữ liệu được thu nhập từ file \"state.xls\" là file cho biết dân số của các bang ở Hoa Kỳ vào năm 2019 và nguồn dữ liệu là [ở đây](https://www.ers.usda.gov/data-products/county-level-data-sets/download-data/).\n",
    "\n",
    "- Bước 2: Thống kê số lượng ngườị bị bắn ở các bang từ năm 2015 trong dữ liệu.\n",
    "- Bước 3: Từ 2 dữ liệu trên, tìm được tỉ lệ số vụ nổ súng trên một triệu người ở từng bang.\n",
    "- Bước 4: Từ kết quả ở trên, vẽ đồ thị dạng cột, trong đó trục hoành là top các bang có tỉ lệ vụ nổ súng cao nhất. "
   ]
  },
  {
   "cell_type": "markdown",
   "id": "d4221ff8",
   "metadata": {},
   "source": [
    "#### Code bước 1. "
   ]
  },
  {
   "cell_type": "code",
   "execution_count": 29,
   "id": "fd94fb09",
   "metadata": {},
   "outputs": [
    {
     "data": {
      "text/html": [
       "<div>\n",
       "<style scoped>\n",
       "    .dataframe tbody tr th:only-of-type {\n",
       "        vertical-align: middle;\n",
       "    }\n",
       "\n",
       "    .dataframe tbody tr th {\n",
       "        vertical-align: top;\n",
       "    }\n",
       "\n",
       "    .dataframe thead th {\n",
       "        text-align: right;\n",
       "    }\n",
       "</style>\n",
       "<table border=\"1\" class=\"dataframe\">\n",
       "  <thead>\n",
       "    <tr style=\"text-align: right;\">\n",
       "      <th></th>\n",
       "      <th>State</th>\n",
       "      <th>Population</th>\n",
       "      <th>Area_Name</th>\n",
       "    </tr>\n",
       "  </thead>\n",
       "  <tbody>\n",
       "    <tr>\n",
       "      <th>0</th>\n",
       "      <td>AL</td>\n",
       "      <td>4903185</td>\n",
       "      <td>Alabama</td>\n",
       "    </tr>\n",
       "    <tr>\n",
       "      <th>1</th>\n",
       "      <td>AK</td>\n",
       "      <td>731545</td>\n",
       "      <td>Alaska</td>\n",
       "    </tr>\n",
       "    <tr>\n",
       "      <th>2</th>\n",
       "      <td>AZ</td>\n",
       "      <td>7278717</td>\n",
       "      <td>Arizona</td>\n",
       "    </tr>\n",
       "    <tr>\n",
       "      <th>3</th>\n",
       "      <td>AR</td>\n",
       "      <td>3017804</td>\n",
       "      <td>Arkansas</td>\n",
       "    </tr>\n",
       "    <tr>\n",
       "      <th>4</th>\n",
       "      <td>CA</td>\n",
       "      <td>39512223</td>\n",
       "      <td>California</td>\n",
       "    </tr>\n",
       "  </tbody>\n",
       "</table>\n",
       "</div>"
      ],
      "text/plain": [
       "  State  Population   Area_Name\n",
       "0    AL     4903185     Alabama\n",
       "1    AK      731545      Alaska\n",
       "2    AZ     7278717     Arizona\n",
       "3    AR     3017804    Arkansas\n",
       "4    CA    39512223  California"
      ]
     },
     "execution_count": 29,
     "metadata": {},
     "output_type": "execute_result"
    }
   ],
   "source": [
    "sp = pd.read_excel(\"state.xls\",skiprows = 2, index_col = 'State')\n",
    "sp = sp[sp.FIPStxt % 1000 == 0][['POP_ESTIMATE_2019','Area_Name']].drop(labels = ['US','PR'])\n",
    "sp = sp.reset_index().rename(columns={'POP_ESTIMATE_2019': 'Population'})\n",
    "sp.head()"
   ]
  },
  {
   "cell_type": "code",
   "execution_count": 17,
   "id": "ea3a493c",
   "metadata": {},
   "outputs": [
    {
     "data": {
      "text/plain": [
       "(51, 2)"
      ]
     },
     "execution_count": 17,
     "metadata": {},
     "output_type": "execute_result"
    }
   ],
   "source": [
    "sp.shape"
   ]
  },
  {
   "cell_type": "markdown",
   "id": "6186279b",
   "metadata": {},
   "source": [
    "Tổng có có 51 bang ở Mỹ.\n"
   ]
  },
  {
   "cell_type": "markdown",
   "id": "b1360530",
   "metadata": {},
   "source": [
    "#### Code bước 2. "
   ]
  },
  {
   "cell_type": "code",
   "execution_count": 21,
   "id": "ec32f9b0",
   "metadata": {},
   "outputs": [
    {
     "data": {
      "text/html": [
       "<div>\n",
       "<style scoped>\n",
       "    .dataframe tbody tr th:only-of-type {\n",
       "        vertical-align: middle;\n",
       "    }\n",
       "\n",
       "    .dataframe tbody tr th {\n",
       "        vertical-align: top;\n",
       "    }\n",
       "\n",
       "    .dataframe thead th {\n",
       "        text-align: right;\n",
       "    }\n",
       "</style>\n",
       "<table border=\"1\" class=\"dataframe\">\n",
       "  <thead>\n",
       "    <tr style=\"text-align: right;\">\n",
       "      <th></th>\n",
       "      <th>State</th>\n",
       "      <th>Total</th>\n",
       "    </tr>\n",
       "  </thead>\n",
       "  <tbody>\n",
       "    <tr>\n",
       "      <th>0</th>\n",
       "      <td>CA</td>\n",
       "      <td>948</td>\n",
       "    </tr>\n",
       "    <tr>\n",
       "      <th>1</th>\n",
       "      <td>TX</td>\n",
       "      <td>570</td>\n",
       "    </tr>\n",
       "    <tr>\n",
       "      <th>2</th>\n",
       "      <td>FL</td>\n",
       "      <td>421</td>\n",
       "    </tr>\n",
       "    <tr>\n",
       "      <th>3</th>\n",
       "      <td>AZ</td>\n",
       "      <td>298</td>\n",
       "    </tr>\n",
       "    <tr>\n",
       "      <th>4</th>\n",
       "      <td>CO</td>\n",
       "      <td>232</td>\n",
       "    </tr>\n",
       "  </tbody>\n",
       "</table>\n",
       "</div>"
      ],
      "text/plain": [
       "  State  Total\n",
       "0    CA    948\n",
       "1    TX    570\n",
       "2    FL    421\n",
       "3    AZ    298\n",
       "4    CO    232"
      ]
     },
     "execution_count": 21,
     "metadata": {},
     "output_type": "execute_result"
    }
   ],
   "source": [
    "state_shotings = mvt_df.state.value_counts()\n",
    "state_shotings = state_shotings.to_frame().reset_index()\n",
    "state_shotings = state_shotings.rename(columns={'state': 'Total', 'index': 'State'})\n",
    "state_shotings.head()"
   ]
  },
  {
   "cell_type": "code",
   "execution_count": 22,
   "id": "b66b2457",
   "metadata": {},
   "outputs": [
    {
     "data": {
      "text/plain": [
       "(51, 2)"
      ]
     },
     "execution_count": 22,
     "metadata": {},
     "output_type": "execute_result"
    }
   ],
   "source": [
    "state_shotings.shape"
   ]
  },
  {
   "cell_type": "markdown",
   "id": "95f9bde3",
   "metadata": {},
   "source": [
    "Các vụ nổ súng xảy ra trên khắp đất nước."
   ]
  },
  {
   "cell_type": "markdown",
   "id": "d67ab1cc",
   "metadata": {},
   "source": [
    "#### Code bước 3. "
   ]
  },
  {
   "cell_type": "code",
   "execution_count": 30,
   "id": "1c18c6c4",
   "metadata": {},
   "outputs": [
    {
     "data": {
      "text/html": [
       "<div>\n",
       "<style scoped>\n",
       "    .dataframe tbody tr th:only-of-type {\n",
       "        vertical-align: middle;\n",
       "    }\n",
       "\n",
       "    .dataframe tbody tr th {\n",
       "        vertical-align: top;\n",
       "    }\n",
       "\n",
       "    .dataframe thead th {\n",
       "        text-align: right;\n",
       "    }\n",
       "</style>\n",
       "<table border=\"1\" class=\"dataframe\">\n",
       "  <thead>\n",
       "    <tr style=\"text-align: right;\">\n",
       "      <th></th>\n",
       "      <th>Population</th>\n",
       "      <th>Area_Name</th>\n",
       "      <th>Total</th>\n",
       "      <th>ratio</th>\n",
       "    </tr>\n",
       "    <tr>\n",
       "      <th>State</th>\n",
       "      <th></th>\n",
       "      <th></th>\n",
       "      <th></th>\n",
       "      <th></th>\n",
       "    </tr>\n",
       "  </thead>\n",
       "  <tbody>\n",
       "    <tr>\n",
       "      <th>AK</th>\n",
       "      <td>731545</td>\n",
       "      <td>Alaska</td>\n",
       "      <td>45</td>\n",
       "      <td>61</td>\n",
       "    </tr>\n",
       "    <tr>\n",
       "      <th>NM</th>\n",
       "      <td>2096829</td>\n",
       "      <td>New Mexico</td>\n",
       "      <td>125</td>\n",
       "      <td>59</td>\n",
       "    </tr>\n",
       "    <tr>\n",
       "      <th>OK</th>\n",
       "      <td>3956971</td>\n",
       "      <td>Oklahoma</td>\n",
       "      <td>189</td>\n",
       "      <td>47</td>\n",
       "    </tr>\n",
       "    <tr>\n",
       "      <th>AZ</th>\n",
       "      <td>7278717</td>\n",
       "      <td>Arizona</td>\n",
       "      <td>298</td>\n",
       "      <td>40</td>\n",
       "    </tr>\n",
       "    <tr>\n",
       "      <th>CO</th>\n",
       "      <td>5758736</td>\n",
       "      <td>Colorado</td>\n",
       "      <td>232</td>\n",
       "      <td>40</td>\n",
       "    </tr>\n",
       "    <tr>\n",
       "      <th>MT</th>\n",
       "      <td>1068778</td>\n",
       "      <td>Montana</td>\n",
       "      <td>39</td>\n",
       "      <td>36</td>\n",
       "    </tr>\n",
       "    <tr>\n",
       "      <th>NV</th>\n",
       "      <td>3080156</td>\n",
       "      <td>Nevada</td>\n",
       "      <td>107</td>\n",
       "      <td>34</td>\n",
       "    </tr>\n",
       "    <tr>\n",
       "      <th>WV</th>\n",
       "      <td>1792147</td>\n",
       "      <td>West Virginia</td>\n",
       "      <td>60</td>\n",
       "      <td>33</td>\n",
       "    </tr>\n",
       "    <tr>\n",
       "      <th>AR</th>\n",
       "      <td>3017804</td>\n",
       "      <td>Arkansas</td>\n",
       "      <td>95</td>\n",
       "      <td>31</td>\n",
       "    </tr>\n",
       "    <tr>\n",
       "      <th>ID</th>\n",
       "      <td>1787065</td>\n",
       "      <td>Idaho</td>\n",
       "      <td>50</td>\n",
       "      <td>27</td>\n",
       "    </tr>\n",
       "  </tbody>\n",
       "</table>\n",
       "</div>"
      ],
      "text/plain": [
       "       Population      Area_Name  Total  ratio\n",
       "State                                         \n",
       "AK         731545         Alaska     45     61\n",
       "NM        2096829     New Mexico    125     59\n",
       "OK        3956971       Oklahoma    189     47\n",
       "AZ        7278717        Arizona    298     40\n",
       "CO        5758736       Colorado    232     40\n",
       "MT        1068778        Montana     39     36\n",
       "NV        3080156         Nevada    107     34\n",
       "WV        1792147  West Virginia     60     33\n",
       "AR        3017804       Arkansas     95     31\n",
       "ID        1787065          Idaho     50     27"
      ]
     },
     "execution_count": 30,
     "metadata": {},
     "output_type": "execute_result"
    }
   ],
   "source": [
    "state_ratio = sp.merge(state_shotings).set_index('State')\n",
    "state_ratio['ratio'] = (state_ratio.Total / state_ratio.Population * 1000000).astype('int')\n",
    "state_ratio = state_ratio.sort_values(by='ratio', ascending=False)\n",
    "state_ratio.head(10)"
   ]
  },
  {
   "cell_type": "markdown",
   "id": "9681c27d",
   "metadata": {},
   "source": [
    "#### Code bước 4."
   ]
  },
  {
   "cell_type": "code",
   "execution_count": 45,
   "id": "f27ce980",
   "metadata": {
    "scrolled": false
   },
   "outputs": [
    {
     "data": {
      "text/plain": [
       "<AxesSubplot:xlabel='State', ylabel='Shootings per million people'>"
      ]
     },
     "execution_count": 45,
     "metadata": {},
     "output_type": "execute_result"
    },
    {
     "data": {
      "image/png": "[encoded data removed]",
      "text/plain": [
       "<Figure size 432x288 with 1 Axes>"
      ]
     },
     "metadata": {
      "needs_background": "light"
     },
     "output_type": "display_data"
    }
   ],
   "source": [
    "state_ratio.set_index('Area_Name').head(10).ratio.plot.bar(xlabel='State', ylabel= 'Shootings per million people')"
   ]
  },
  {
   "cell_type": "markdown",
   "id": "24f3ed60",
   "metadata": {},
   "source": [
    "### So sánh tỉ lệ các chủng tộc bị bắn ở Hoa Kỳ, liệu có liên quan gì đến vấn đề phân biệt chủng tộc?\n",
    "\n",
    "Để trả lời cho câu hỏi này, nhóm sẽ làm như sau:\n",
    "- Bước 1: Thống kê dân số các chủng tốc chủ yếu ở Hoa Kỳ vào năm 2019 (Dân số các năm gần nhau chênh lệnh không đáng kể). Gồm người Mỹ da đen, người Mỹ da trắng, người Mỹ gốc Latinh và người Mỹ gốc Á. Số liệu được thu nhập từ Wikipedia về các chủng tốc và sắc tộc ở Hoa kỳ vào năm 2019 và nguồn dữ liệu là [ở đây](https://en.wikipedia.org/wiki/Race_and_ethnicity_in_the_United_States).\n",
    "\n",
    "- Bước 2: Thống kê số lượng ngườị bị bắn theo các chủng tộc trên từ năm 2015 trong dữ liệu.\n",
    "- Bước 3: Từ 2 dữ liệu trên, tìm được tỉ lệ số vụ nổ súng trên một triệu người theo từng chủng tộc.\n",
    "- Bước 4: Từ kết quả ở trên, vẽ đồ thị dạng cột, trong đó trục hoành là các chủng tốc."
   ]
  },
  {
   "cell_type": "markdown",
   "id": "32825bc6",
   "metadata": {},
   "source": [
    "#### Code bước 1. "
   ]
  },
  {
   "cell_type": "code",
   "execution_count": 49,
   "id": "a070ef23",
   "metadata": {},
   "outputs": [
    {
     "data": {
      "text/plain": [
       "W    197.784\n",
       "B     43.952\n",
       "H     60.680\n",
       "A     19.352\n",
       "dtype: float64"
      ]
     },
     "execution_count": 49,
     "metadata": {},
     "output_type": "execute_result"
    }
   ],
   "source": [
    "population_ratio = np.array([60.3,13.4,18.5,5.9]) \n",
    "four_race_arr = ['W','B','H','A']\n",
    "race_census = pd.Series(population_ratio * 3.28, index = four_race_arr,)\n",
    "race_census"
   ]
  },
  {
   "cell_type": "markdown",
   "id": "62b6a6a9",
   "metadata": {},
   "source": [
    "Số lượng người Mỹ da trắng khoảng 197 triệu người, người Mỹ da đen khoảng 43 triệu người, người Mỹ gốc Latinh 60 triệu người và người Mỹ gốc Á là 19 triệu người, còn lại một ít chủng tốc khác với số lượng khá ít không xét tới."
   ]
  },
  {
   "cell_type": "markdown",
   "id": "3813288c",
   "metadata": {},
   "source": [
    "#### Code bước 2. "
   ]
  },
  {
   "cell_type": "code",
   "execution_count": 50,
   "id": "b5f2af1e",
   "metadata": {},
   "outputs": [
    {
     "data": {
      "text/plain": [
       "W    2903\n",
       "B    1520\n",
       "H    1062\n",
       "A     104\n",
       "Name: race, dtype: int64"
      ]
     },
     "execution_count": 50,
     "metadata": {},
     "output_type": "execute_result"
    }
   ],
   "source": [
    "four_race_us = mvt_df[mvt_df.race.isin(four_race_arr)]\n",
    "race_shootings = four_race_us.race.value_counts()\n",
    "race_shootings"
   ]
  },
  {
   "cell_type": "markdown",
   "id": "6181d266",
   "metadata": {},
   "source": [
    "Số lượng bị bắn từ năm 2015 ở người Mỹ da trắng là 2903 người, người Mỹ da đen 1520 người, người Mỹ gốc Latinh 1062 người và người Mỹ gốc Á là 104 người."
   ]
  },
  {
   "cell_type": "markdown",
   "id": "cfc121cb",
   "metadata": {},
   "source": [
    "#### Code bước 3. "
   ]
  },
  {
   "cell_type": "code",
   "execution_count": 59,
   "id": "77009ce1",
   "metadata": {},
   "outputs": [
    {
     "data": {
      "text/plain": [
       "B    34\n",
       "H    17\n",
       "W    14\n",
       "A     5\n",
       "dtype: int64"
      ]
     },
     "execution_count": 59,
     "metadata": {},
     "output_type": "execute_result"
    }
   ],
   "source": [
    "race_ratio = (race_shootings / race_census).astype('int').sort_values(ascending = False)\n",
    "race_ratio"
   ]
  },
  {
   "cell_type": "markdown",
   "id": "e40cf38e",
   "metadata": {},
   "source": [
    "#### Code bước 4. "
   ]
  },
  {
   "cell_type": "code",
   "execution_count": 60,
   "id": "f21cb4b2",
   "metadata": {
    "scrolled": true
   },
   "outputs": [
    {
     "data": {
      "text/plain": [
       "<AxesSubplot:xlabel='Race', ylabel='Shootings per million people'>"
      ]
     },
     "execution_count": 60,
     "metadata": {},
     "output_type": "execute_result"
    },
    {
     "data": {
      "image/png": "[encoded data removed]",
      "text/plain": [
       "<Figure size 432x288 with 1 Axes>"
      ]
     },
     "metadata": {
      "needs_background": "light"
     },
     "output_type": "display_data"
    }
   ],
   "source": [
    "race_ratio.plot.bar(xlabel='Race', ylabel= 'Shootings per million people')"
   ]
  },
  {
   "cell_type": "markdown",
   "id": "cde67bcd",
   "metadata": {},
   "source": [
    "### Trong mỗi năm của 3 năm gần đây, số lượng các vụ nổ súng thay đổi như thế nào theo tháng?\n",
    "Để trả lời cho câu hỏi này, nhóm sẽ làm như sau:\n",
    "- Bước 1: Thống kê các vụ nổ súng trong mỗi năm của 3 năm gần đây, bắt đầu từ năm 2018 đến 2020 và ứng với mỗi năm là số lượng vụ nổ súng theo các tháng của 3 năm đó.\n",
    "- Bước 2: Từ kết quả ở trên, vẽ 3 đường dạng line (ứng với 3 năm) trên cùng một đồ thị, trong đó trục hoành là tháng và trục tung là số lượng vụ nổ súng."
   ]
  },
  {
   "cell_type": "markdown",
   "id": "4a5a8967",
   "metadata": {},
   "source": [
    "#### Code bước 1."
   ]
  },
  {
   "cell_type": "code",
   "execution_count": 63,
   "id": "6cf8c0e0",
   "metadata": {},
   "outputs": [
    {
     "data": {
      "text/html": [
       "<div>\n",
       "<style scoped>\n",
       "    .dataframe tbody tr th:only-of-type {\n",
       "        vertical-align: middle;\n",
       "    }\n",
       "\n",
       "    .dataframe tbody tr th {\n",
       "        vertical-align: top;\n",
       "    }\n",
       "\n",
       "    .dataframe thead th {\n",
       "        text-align: right;\n",
       "    }\n",
       "</style>\n",
       "<table border=\"1\" class=\"dataframe\">\n",
       "  <thead>\n",
       "    <tr style=\"text-align: right;\">\n",
       "      <th>year</th>\n",
       "      <th>2018</th>\n",
       "      <th>2019</th>\n",
       "      <th>2020</th>\n",
       "    </tr>\n",
       "    <tr>\n",
       "      <th>month</th>\n",
       "      <th></th>\n",
       "      <th></th>\n",
       "      <th></th>\n",
       "    </tr>\n",
       "  </thead>\n",
       "  <tbody>\n",
       "    <tr>\n",
       "      <th>1</th>\n",
       "      <td>99.0</td>\n",
       "      <td>93.0</td>\n",
       "      <td>88.0</td>\n",
       "    </tr>\n",
       "    <tr>\n",
       "      <th>2</th>\n",
       "      <td>80.0</td>\n",
       "      <td>72.0</td>\n",
       "      <td>78.0</td>\n",
       "    </tr>\n",
       "    <tr>\n",
       "      <th>3</th>\n",
       "      <td>109.0</td>\n",
       "      <td>88.0</td>\n",
       "      <td>93.0</td>\n",
       "    </tr>\n",
       "    <tr>\n",
       "      <th>4</th>\n",
       "      <td>98.0</td>\n",
       "      <td>71.0</td>\n",
       "      <td>79.0</td>\n",
       "    </tr>\n",
       "    <tr>\n",
       "      <th>5</th>\n",
       "      <td>83.0</td>\n",
       "      <td>74.0</td>\n",
       "      <td>111.0</td>\n",
       "    </tr>\n",
       "    <tr>\n",
       "      <th>6</th>\n",
       "      <td>81.0</td>\n",
       "      <td>86.0</td>\n",
       "      <td>77.0</td>\n",
       "    </tr>\n",
       "    <tr>\n",
       "      <th>7</th>\n",
       "      <td>89.0</td>\n",
       "      <td>80.0</td>\n",
       "      <td>68.0</td>\n",
       "    </tr>\n",
       "    <tr>\n",
       "      <th>8</th>\n",
       "      <td>74.0</td>\n",
       "      <td>86.0</td>\n",
       "      <td>87.0</td>\n",
       "    </tr>\n",
       "    <tr>\n",
       "      <th>9</th>\n",
       "      <td>55.0</td>\n",
       "      <td>78.0</td>\n",
       "      <td>59.0</td>\n",
       "    </tr>\n",
       "    <tr>\n",
       "      <th>10</th>\n",
       "      <td>75.0</td>\n",
       "      <td>89.0</td>\n",
       "      <td>101.0</td>\n",
       "    </tr>\n",
       "    <tr>\n",
       "      <th>11</th>\n",
       "      <td>76.0</td>\n",
       "      <td>76.0</td>\n",
       "      <td>91.0</td>\n",
       "    </tr>\n",
       "    <tr>\n",
       "      <th>12</th>\n",
       "      <td>71.0</td>\n",
       "      <td>106.0</td>\n",
       "      <td>89.0</td>\n",
       "    </tr>\n",
       "  </tbody>\n",
       "</table>\n",
       "</div>"
      ],
      "text/plain": [
       "year    2018   2019   2020\n",
       "month                     \n",
       "1       99.0   93.0   88.0\n",
       "2       80.0   72.0   78.0\n",
       "3      109.0   88.0   93.0\n",
       "4       98.0   71.0   79.0\n",
       "5       83.0   74.0  111.0\n",
       "6       81.0   86.0   77.0\n",
       "7       89.0   80.0   68.0\n",
       "8       74.0   86.0   87.0\n",
       "9       55.0   78.0   59.0\n",
       "10      75.0   89.0  101.0\n",
       "11      76.0   76.0   91.0\n",
       "12      71.0  106.0   89.0"
      ]
     },
     "execution_count": 63,
     "metadata": {},
     "output_type": "execute_result"
    }
   ],
   "source": [
    "s = mvt_df[['year','month']]\n",
    "s = s.groupby(['year','month']).size()\n",
    "num_shootings_each_month_df = s.unstack(1).T\n",
    "num_shootings_each_month_df = num_shootings_each_month_df[[2018,2019,2020]]\n",
    "num_shootings_each_month_df"
   ]
  },
  {
   "cell_type": "markdown",
   "id": "f6080a43",
   "metadata": {},
   "source": [
    "#### Code bước 2."
   ]
  },
  {
   "cell_type": "code",
   "execution_count": 64,
   "id": "49c36c8c",
   "metadata": {},
   "outputs": [
    {
     "data": {
      "text/plain": [
       "<AxesSubplot:xlabel='Month', ylabel='NumThefts'>"
      ]
     },
     "execution_count": 64,
     "metadata": {},
     "output_type": "execute_result"
    },
    {
     "data": {
      "image/png": "[encoded data removed]",
      "text/plain": [
       "<Figure size 432x288 with 1 Axes>"
      ]
     },
     "metadata": {
      "needs_background": "light"
     },
     "output_type": "display_data"
    }
   ],
   "source": [
    "num_shootings_each_month_df.plot.line(xlabel = 'Month', ylabel = 'NumThefts', marker='o',)"
   ]
  },
  {
   "cell_type": "markdown",
   "id": "eed0e19a",
   "metadata": {},
   "source": [
    "## Nhìn lại quá trình làm đồ án"
   ]
  },
  {
   "cell_type": "markdown",
   "id": "ee134091",
   "metadata": {},
   "source": [
    "- `Khó khăn`\n",
    "    \n",
    "- `Những điều hữu ích học được`\n",
    "    - Kĩ năng làm việc nhóm.\n",
    "    - Kĩ năng sử dụng các công cụ hỗ trợ làm đồ án (như github, trello,...).\n",
    "    - Các kĩ năng khám phá dữ liệu.\n",
    "    - Hiểu sâu sắc hơn quy trình Khoa học dữ liệu qua việc tự tìm hiểu và làm đồ án.\n",
    "    \n",
    "- `Những dự định nếu có thời gian thêm`"
   ]
  },
  {
   "cell_type": "markdown",
   "id": "6cd6c815",
   "metadata": {},
   "source": [
    "## Tài liệu tham khảo"
   ]
  },
  {
   "cell_type": "markdown",
   "id": "c958c338",
   "metadata": {},
   "source": [
    "- https://www.washingtonpost.com/graphics/investigations/police-shootings-database/\n",
    "- https://github.com/washingtonpost/data-police-shootings\n",
    "- https://www.ers.usda.gov/data-products/county-level-data-sets/download-data/\n",
    "- https://en.wikipedia.org/wiki/Race_and_ethnicity_in_the_United_States"
   ]
  }
 ],
 "metadata": {
  "hide_input": false,
  "kernelspec": {
   "display_name": "Python 3",
   "language": "python",
   "name": "python3"
  },
  "language_info": {
   "codemirror_mode": {
    "name": "ipython",
    "version": 3
   },
   "file_extension": ".py",
   "mimetype": "text/x-python",
   "name": "python",
   "nbconvert_exporter": "python",
   "pygments_lexer": "ipython3",
   "version": "3.8.8"
  },
  "toc": {
   "base_numbering": 1,
   "nav_menu": {},
   "number_sections": false,
   "sideBar": true,
   "skip_h1_title": true,
   "title_cell": "Mục lục",
   "title_sidebar": "Contents",
   "toc_cell": true,
   "toc_position": {
    "height": "564.545px",
    "left": "1076px",
    "top": "110.284px",
    "width": "346.364px"
   },
   "toc_section_display": true,
   "toc_window_display": true
  }
 },
 "nbformat": 4,
 "nbformat_minor": 5
}
