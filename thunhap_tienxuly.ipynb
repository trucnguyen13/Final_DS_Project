{
 "cells": [
  {
   "cell_type": "markdown",
   "id": "9d987deb",
   "metadata": {
    "toc": true
   },
   "source": [
    "<h1>Mục lục<span class=\"tocSkip\"></span></h1>\n",
    "<div class=\"toc\"><ul class=\"toc-item\"><li><span><a href=\"#Import-các-thư-viện-cần-thiết\" data-toc-modified-id=\"Import-các-thư-viện-cần-thiết-1\"><span class=\"toc-item-num\">1&nbsp;&nbsp;</span>Import các thư viện cần thiết</a></span></li><li><span><a href=\"#Thu-thập-dữ-liệu\" data-toc-modified-id=\"Thu-thập-dữ-liệu-2\"><span class=\"toc-item-num\">2&nbsp;&nbsp;</span>Thu thập dữ liệu</a></span></li><li><span><a href=\"#Khám-phá-dữ-liệu\" data-toc-modified-id=\"Khám-phá-dữ-liệu-3\"><span class=\"toc-item-num\">3&nbsp;&nbsp;</span>Khám phá dữ liệu</a></span><ul class=\"toc-item\"><li><span><a href=\"#Đọc-dữ-liệu-từ-file-csv-vào-dataframe\" data-toc-modified-id=\"Đọc-dữ-liệu-từ-file-csv-vào-dataframe-3.1\"><span class=\"toc-item-num\">3.1&nbsp;&nbsp;</span>Đọc dữ liệu từ file csv vào dataframe</a></span></li><li><span><a href=\"#Dữ-liệu-gồm-có-bao-nhiêu-dòng-và-bao-nhiêu-cột?\" data-toc-modified-id=\"Dữ-liệu-gồm-có-bao-nhiêu-dòng-và-bao-nhiêu-cột?-3.2\"><span class=\"toc-item-num\">3.2&nbsp;&nbsp;</span>Dữ liệu gồm có bao nhiêu dòng và bao nhiêu cột?</a></span></li><li><span><a href=\"#Mỗi-dòng-có-ý-nghĩa-gì?-Có-vấn-đề-các-dòng-có-ý-nghĩa-khác-nhau-không?\" data-toc-modified-id=\"Mỗi-dòng-có-ý-nghĩa-gì?-Có-vấn-đề-các-dòng-có-ý-nghĩa-khác-nhau-không?-3.3\"><span class=\"toc-item-num\">3.3&nbsp;&nbsp;</span>Mỗi dòng có ý nghĩa gì? Có vấn đề các dòng có ý nghĩa khác nhau không?</a></span></li><li><span><a href=\"#Dữ-liệu-có-các-dòng-bị-lặp-không?\" data-toc-modified-id=\"Dữ-liệu-có-các-dòng-bị-lặp-không?-3.4\"><span class=\"toc-item-num\">3.4&nbsp;&nbsp;</span>Dữ liệu có các dòng bị lặp không?</a></span></li><li><span><a href=\"#Mỗi-cột-có-ý-nghĩa-gì?\" data-toc-modified-id=\"Mỗi-cột-có-ý-nghĩa-gì?-3.5\"><span class=\"toc-item-num\">3.5&nbsp;&nbsp;</span>Mỗi cột có ý nghĩa gì?</a></span></li><li><span><a href=\"#Mỗi-cột-hiện-đang-có-kiểu-dữ-liệu-gì?-Có-cột-nào-có-kiểu-dữ-liệu-chưa-phù-hợp-để-có-thể-xử-lý-tiếp-không?\" data-toc-modified-id=\"Mỗi-cột-hiện-đang-có-kiểu-dữ-liệu-gì?-Có-cột-nào-có-kiểu-dữ-liệu-chưa-phù-hợp-để-có-thể-xử-lý-tiếp-không?-3.6\"><span class=\"toc-item-num\">3.6&nbsp;&nbsp;</span>Mỗi cột hiện đang có kiểu dữ liệu gì? Có cột nào có kiểu dữ liệu chưa phù hợp để có thể xử lý tiếp không?</a></span></li></ul></li><li><span><a href=\"#Tiền-xử-lý\" data-toc-modified-id=\"Tiền-xử-lý-4\"><span class=\"toc-item-num\">4&nbsp;&nbsp;</span>Tiền xử lý</a></span><ul class=\"toc-item\"><li><span><a href=\"#Chuyển-dtype-của-cột-&quot;date&quot;-sang-datetime.\" data-toc-modified-id=\"Chuyển-dtype-của-cột-&quot;date&quot;-sang-datetime.-4.1\"><span class=\"toc-item-num\">4.1&nbsp;&nbsp;</span>Chuyển dtype của cột \"date\" sang datetime.</a></span></li></ul></li><li><span><a href=\"#Khám-phá-dữ-liệu-(tiếp-tục)\" data-toc-modified-id=\"Khám-phá-dữ-liệu-(tiếp-tục)-5\"><span class=\"toc-item-num\">5&nbsp;&nbsp;</span>Khám phá dữ liệu (tiếp tục)</a></span><ul class=\"toc-item\"><li><span><a href=\"#Với-mỗi-cột-có-kiểu-dữ-liệu-dạng-numeric,-các-giá-trị-được-phân-bố-như-thế-nào?\" data-toc-modified-id=\"Với-mỗi-cột-có-kiểu-dữ-liệu-dạng-numeric,-các-giá-trị-được-phân-bố-như-thế-nào?-5.1\"><span class=\"toc-item-num\">5.1&nbsp;&nbsp;</span>Với mỗi cột có kiểu dữ liệu dạng numeric, các giá trị được phân bố như thế nào?</a></span></li><li><span><a href=\"#Với-mỗi-cột-có-kiểu-dữ-liệu-dạng-categorical,-các-giá-trị-được-phân-bố-như-thế-nào?\" data-toc-modified-id=\"Với-mỗi-cột-có-kiểu-dữ-liệu-dạng-categorical,-các-giá-trị-được-phân-bố-như-thế-nào?-5.2\"><span class=\"toc-item-num\">5.2&nbsp;&nbsp;</span>Với mỗi cột có kiểu dữ liệu dạng categorical, các giá trị được phân bố như thế nào?</a></span></li></ul></li><li><span><a href=\"#Đưa-ra-các-câu-hỏi-cần-trả-lời\" data-toc-modified-id=\"Đưa-ra-các-câu-hỏi-cần-trả-lời-6\"><span class=\"toc-item-num\">6&nbsp;&nbsp;</span>Đưa ra các câu hỏi cần trả lời</a></span></li><li><span><a href=\"#Nhìn-lại-quá-trình-làm-đồ-án\" data-toc-modified-id=\"Nhìn-lại-quá-trình-làm-đồ-án-7\"><span class=\"toc-item-num\">7&nbsp;&nbsp;</span>Nhìn lại quá trình làm đồ án</a></span></li><li><span><a href=\"#Tài-liệu-tham-khảo\" data-toc-modified-id=\"Tài-liệu-tham-khảo-8\"><span class=\"toc-item-num\">8&nbsp;&nbsp;</span>Tài liệu tham khảo</a></span></li></ul></div>"
   ]
  },
  {
   "cell_type": "markdown",
   "id": "f431942d",
   "metadata": {},
   "source": [
    "## Import các thư viện cần thiết\n"
   ]
  },
  {
   "cell_type": "code",
   "execution_count": 1,
   "id": "5befe496",
   "metadata": {},
   "outputs": [],
   "source": [
    "import pandas as pd\n",
    "import numpy as np\n",
    "import matplotlib.pyplot as plt"
   ]
  },
  {
   "cell_type": "markdown",
   "id": "b01fd852",
   "metadata": {},
   "source": [
    "## Thu thập dữ liệu"
   ]
  },
  {
   "cell_type": "markdown",
   "id": "cc443636",
   "metadata": {},
   "source": [
    "Trong bài phân tích này, chúng em sẽ dùng dữ liệu đã được thu thập sẵn là file \"fatal-police-shootings-data.csv\" đính kèm. Đây dữ liệu của Washington Post chứa hồ sơ về mọi vụ nổ súng gây tử vong ở Hoa Kỳ của các sĩ quan cảnh sát đang thi hành công vụ kể từ ngày 1 tháng 1 năm 2015. Dữ liệu này được lấy từ nguồn GitHub được cập nhật thường xuyên và gốc của dữ liệu là [ở đây](https://github.com/washingtonpost/data-police-shootings).\n",
    "\n",
    "Theo mô tả trong file \"README.md\" từ nguồn GitHub được Washington Post public\n",
    ">In 2015, The Post began tracking more than a dozen details about each killing — including the race of the deceased, the circumstances of the shooting, whether the person was armed and whether the person was experiencing a mental-health crisis — by culling local news reports, law enforcement websites and social media, and by monitoring independent databases such as Killed by Police and Fatal Encounters. The Post conducted additional reporting in many cases.\n",
    "\n",
    ">The Post is documenting only those shootings in which a police officer, in the line of duty, shoots and kills a civilian — the circumstances that most closely parallel the 2014 killing of Michael Brown in Ferguson, Mo., which began the protest movement culminating in Black Lives Matter and an increased focus on police accountability nationwide. The Post is not tracking deaths of people in police custody, fatal shootings by off-duty officers or non-shooting deaths.\n",
    ">\n",
    ">The FBI and the Centers for Disease Control and Prevention log fatal shootings by police, but officials acknowledge that their data is incomplete. Since 2015, The Post has documented more than twice as many fatal shootings by police as recorded on average annually.\n",
    ">\n",
    ">The Post’s database is updated regularly as fatal shootings are reported and as facts emerge about individual cases. The Post seeks to make the database as comprehensive as possible. To provide information about fatal police shootings since Jan. 1, 2015, send us an email at policeshootingsfeedback@washpost.com.\n",
    "\n",
    "File \"fatal-police-shootings-data.csv\" mà chúng em đính kèm là file dữ liệu chính mà bạn sẽ làm trong bài tập này. Ngoài ra, chúng em còn đính kèm 1 file phụ: file \"state.xls\" là file cho biết dân số của các bang ở Mỹ vào năm 2019 và nguồn dữ liệu là [ở đây](https://www.ers.usda.gov/data-products/county-level-data-sets/download-data/\n",
    ")\n",
    "\n",
    "Cũng theo file \"README.md\", dữ liệu này được Washington Post public với license như sau:\n",
    ">The data is published under an Attribution-NonCommercial-ShareAlike 4.0 International (CC BY-NC-SA 4.0) license: https://creativecommons.org/licenses/by-nc-sa/4.0/\n",
    ">\n",
    ">About license: You are free to: Share - copy and redistribute the material in any medium or format. Adapt - remix, transform, and build upon the material. The licensor cannot revoke these freedoms as long as you follow the license terms."
   ]
  },
  {
   "cell_type": "markdown",
   "id": "379cdb07",
   "metadata": {},
   "source": [
    "## Khám phá dữ liệu "
   ]
  },
  {
   "cell_type": "markdown",
   "id": "8b4bae69",
   "metadata": {},
   "source": [
    "### Đọc dữ liệu từ file csv vào dataframe"
   ]
  },
  {
   "cell_type": "code",
   "execution_count": 2,
   "id": "b5a30ab1",
   "metadata": {},
   "outputs": [
    {
     "data": {
      "text/html": [
       "<div>\n",
       "<style scoped>\n",
       "    .dataframe tbody tr th:only-of-type {\n",
       "        vertical-align: middle;\n",
       "    }\n",
       "\n",
       "    .dataframe tbody tr th {\n",
       "        vertical-align: top;\n",
       "    }\n",
       "\n",
       "    .dataframe thead th {\n",
       "        text-align: right;\n",
       "    }\n",
       "</style>\n",
       "<table border=\"1\" class=\"dataframe\">\n",
       "  <thead>\n",
       "    <tr style=\"text-align: right;\">\n",
       "      <th></th>\n",
       "      <th>id</th>\n",
       "      <th>name</th>\n",
       "      <th>date</th>\n",
       "      <th>manner_of_death</th>\n",
       "      <th>armed</th>\n",
       "      <th>age</th>\n",
       "      <th>gender</th>\n",
       "      <th>race</th>\n",
       "      <th>city</th>\n",
       "      <th>state</th>\n",
       "      <th>signs_of_mental_illness</th>\n",
       "      <th>threat_level</th>\n",
       "      <th>flee</th>\n",
       "      <th>body_camera</th>\n",
       "      <th>longitude</th>\n",
       "      <th>latitude</th>\n",
       "      <th>is_geocoding_exact</th>\n",
       "    </tr>\n",
       "  </thead>\n",
       "  <tbody>\n",
       "    <tr>\n",
       "      <th>0</th>\n",
       "      <td>3</td>\n",
       "      <td>Tim Elliot</td>\n",
       "      <td>2015-01-02</td>\n",
       "      <td>shot</td>\n",
       "      <td>gun</td>\n",
       "      <td>53.0</td>\n",
       "      <td>M</td>\n",
       "      <td>A</td>\n",
       "      <td>Shelton</td>\n",
       "      <td>WA</td>\n",
       "      <td>True</td>\n",
       "      <td>attack</td>\n",
       "      <td>Not fleeing</td>\n",
       "      <td>False</td>\n",
       "      <td>-123.122</td>\n",
       "      <td>47.247</td>\n",
       "      <td>True</td>\n",
       "    </tr>\n",
       "    <tr>\n",
       "      <th>1</th>\n",
       "      <td>4</td>\n",
       "      <td>Lewis Lee Lembke</td>\n",
       "      <td>2015-01-02</td>\n",
       "      <td>shot</td>\n",
       "      <td>gun</td>\n",
       "      <td>47.0</td>\n",
       "      <td>M</td>\n",
       "      <td>W</td>\n",
       "      <td>Aloha</td>\n",
       "      <td>OR</td>\n",
       "      <td>False</td>\n",
       "      <td>attack</td>\n",
       "      <td>Not fleeing</td>\n",
       "      <td>False</td>\n",
       "      <td>-122.892</td>\n",
       "      <td>45.487</td>\n",
       "      <td>True</td>\n",
       "    </tr>\n",
       "    <tr>\n",
       "      <th>2</th>\n",
       "      <td>5</td>\n",
       "      <td>John Paul Quintero</td>\n",
       "      <td>2015-01-03</td>\n",
       "      <td>shot and Tasered</td>\n",
       "      <td>unarmed</td>\n",
       "      <td>23.0</td>\n",
       "      <td>M</td>\n",
       "      <td>H</td>\n",
       "      <td>Wichita</td>\n",
       "      <td>KS</td>\n",
       "      <td>False</td>\n",
       "      <td>other</td>\n",
       "      <td>Not fleeing</td>\n",
       "      <td>False</td>\n",
       "      <td>-97.281</td>\n",
       "      <td>37.695</td>\n",
       "      <td>True</td>\n",
       "    </tr>\n",
       "    <tr>\n",
       "      <th>3</th>\n",
       "      <td>8</td>\n",
       "      <td>Matthew Hoffman</td>\n",
       "      <td>2015-01-04</td>\n",
       "      <td>shot</td>\n",
       "      <td>toy weapon</td>\n",
       "      <td>32.0</td>\n",
       "      <td>M</td>\n",
       "      <td>W</td>\n",
       "      <td>San Francisco</td>\n",
       "      <td>CA</td>\n",
       "      <td>True</td>\n",
       "      <td>attack</td>\n",
       "      <td>Not fleeing</td>\n",
       "      <td>False</td>\n",
       "      <td>-122.422</td>\n",
       "      <td>37.763</td>\n",
       "      <td>True</td>\n",
       "    </tr>\n",
       "    <tr>\n",
       "      <th>4</th>\n",
       "      <td>9</td>\n",
       "      <td>Michael Rodriguez</td>\n",
       "      <td>2015-01-04</td>\n",
       "      <td>shot</td>\n",
       "      <td>nail gun</td>\n",
       "      <td>39.0</td>\n",
       "      <td>M</td>\n",
       "      <td>H</td>\n",
       "      <td>Evans</td>\n",
       "      <td>CO</td>\n",
       "      <td>False</td>\n",
       "      <td>attack</td>\n",
       "      <td>Not fleeing</td>\n",
       "      <td>False</td>\n",
       "      <td>-104.692</td>\n",
       "      <td>40.384</td>\n",
       "      <td>True</td>\n",
       "    </tr>\n",
       "  </tbody>\n",
       "</table>\n",
       "</div>"
      ],
      "text/plain": [
       "   id                name        date   manner_of_death       armed   age  \\\n",
       "0   3          Tim Elliot  2015-01-02              shot         gun  53.0   \n",
       "1   4    Lewis Lee Lembke  2015-01-02              shot         gun  47.0   \n",
       "2   5  John Paul Quintero  2015-01-03  shot and Tasered     unarmed  23.0   \n",
       "3   8     Matthew Hoffman  2015-01-04              shot  toy weapon  32.0   \n",
       "4   9   Michael Rodriguez  2015-01-04              shot    nail gun  39.0   \n",
       "\n",
       "  gender race           city state  signs_of_mental_illness threat_level  \\\n",
       "0      M    A        Shelton    WA                     True       attack   \n",
       "1      M    W          Aloha    OR                    False       attack   \n",
       "2      M    H        Wichita    KS                    False        other   \n",
       "3      M    W  San Francisco    CA                     True       attack   \n",
       "4      M    H          Evans    CO                    False       attack   \n",
       "\n",
       "          flee  body_camera  longitude  latitude  is_geocoding_exact  \n",
       "0  Not fleeing        False   -123.122    47.247                True  \n",
       "1  Not fleeing        False   -122.892    45.487                True  \n",
       "2  Not fleeing        False    -97.281    37.695                True  \n",
       "3  Not fleeing        False   -122.422    37.763                True  \n",
       "4  Not fleeing        False   -104.692    40.384                True  "
      ]
     },
     "execution_count": 2,
     "metadata": {},
     "output_type": "execute_result"
    }
   ],
   "source": [
    "mvt_df = pd.read_csv('data.csv')\n",
    "mvt_df.head()"
   ]
  },
  {
   "cell_type": "markdown",
   "id": "fbb7950b",
   "metadata": {},
   "source": [
    "### Dữ liệu gồm có bao nhiêu dòng và bao nhiêu cột? "
   ]
  },
  {
   "cell_type": "code",
   "execution_count": 3,
   "id": "cc01ff4f",
   "metadata": {},
   "outputs": [
    {
     "data": {
      "text/plain": [
       "(6419, 17)"
      ]
     },
     "execution_count": 3,
     "metadata": {},
     "output_type": "execute_result"
    }
   ],
   "source": [
    "mvt_df.shape"
   ]
  },
  {
   "cell_type": "markdown",
   "id": "8a06caa3",
   "metadata": {},
   "source": [
    "Dữ liệu gồm 6419 dòng và 17 cột."
   ]
  },
  {
   "cell_type": "markdown",
   "id": "c8a3cff7",
   "metadata": {},
   "source": [
    "### Mỗi dòng có ý nghĩa gì? Có vấn đề các dòng có ý nghĩa khác nhau không?"
   ]
  },
  {
   "cell_type": "markdown",
   "id": "b98a1150",
   "metadata": {},
   "source": [
    "Theo file mô tả dữ liệu và theo quan sát sơ bộ về dữ liệu thì một dòng cho biết thông tin chi tiết về  vụ nổ súng gây tử vong đối với một nạn nhân. Có vẻ không có dòng nào bị \"lạc loài\"."
   ]
  },
  {
   "cell_type": "markdown",
   "id": "b80bf203",
   "metadata": {},
   "source": [
    "### Dữ liệu có các dòng bị lặp không? "
   ]
  },
  {
   "cell_type": "code",
   "execution_count": 4,
   "id": "59701fb9",
   "metadata": {},
   "outputs": [
    {
     "data": {
      "text/plain": [
       "False"
      ]
     },
     "execution_count": 4,
     "metadata": {},
     "output_type": "execute_result"
    }
   ],
   "source": [
    "np.any(mvt_df.duplicated())"
   ]
  },
  {
   "cell_type": "markdown",
   "id": "43e98589",
   "metadata": {},
   "source": [
    "Không có dòng nào bị lặp."
   ]
  },
  {
   "cell_type": "markdown",
   "id": "aa333dc7",
   "metadata": {},
   "source": [
    "### Mỗi cột có ý nghĩa gì?"
   ]
  },
  {
   "cell_type": "markdown",
   "id": "f1942c7b",
   "metadata": {},
   "source": [
    "Theo file mô tả dữ liệu thì:\n",
    "- `id`: a unique identifier for each victim\n",
    "\n",
    "- `name`: the name of the victim\n",
    "\n",
    "- `date`: the date of the fatal shooting in YYYY-MM-DD format\n",
    "\n",
    "- `manner_of_death`:\n",
    "\n",
    "    - `shot`\n",
    "    - `shot and Tasered`\n",
    "- `armed`: indicates that the victim was armed with some sort of implement that a police officer believed could inflict harm\n",
    "\n",
    "    - `undetermined`: it is not known whether or not the victim had a weapon\n",
    "    - `unknown`: the victim was armed, but it is not known what the object was\n",
    "    - `unarmed`: the victim was not armed\n",
    "- `age`: the age of the victim\n",
    "\n",
    "- `gender`: the gender of the victim. The Post identifies victims by the gender they identify with if reports indicate that it differs from their biological sex.\n",
    "\n",
    "    - `M`: Male\n",
    "    - `F`: Female\n",
    "    - `None`: unknown\n",
    "- `race`:\n",
    "\n",
    "    - `W`: White, non-Hispanic\n",
    "    - `B`: Black, non-Hispanic\n",
    "    - `A`: Asian\n",
    "    - `N`: Native American\n",
    "    - `H`: Hispanic\n",
    "    - `O`: Other\n",
    "    - `None`: unknown\n",
    "- `city`: the municipality where the fatal shooting took place. Note that in some cases this field may contain a county name if a more specific municipality is unavailable or unknown.\n",
    "\n",
    "- `state`: two-letter postal code abbreviation\n",
    "\n",
    "- `signs of mental illness`: News reports have indicated the victim had a history of mental health issues, expressed suicidal intentions or was experiencing mental distress at the time of the shooting.\n",
    "\n",
    "- `threat_level`: The threat_level column was used to flag incidents for the story by Amy Brittain in October 2015. http://www.washingtonpost.com/sf/investigative/2015/10/24/on-duty-under-fire/ As described in the story, the general criteria for the attack label was that there was the most direct and immediate threat to life. That would include incidents where officers or others were shot at, threatened with a gun, attacked with other weapons or physical force, etc. The attack category is meant to flag the highest level of threat. The other and undetermined categories represent all remaining cases. Other includes many incidents where officers or others faced significant threats.\n",
    "\n",
    "- `flee`: News reports have indicated the victim was moving away from officers\n",
    "\n",
    "    - `Foot`\n",
    "    - `Car`\n",
    "    - `Not fleeing`\n",
    "    \n",
    "The threat column and the fleeing column are not necessarily related. For example, there is an incident in which the suspect is fleeing and at the same time turns to fire at gun at the officer. Also, attacks represent a status immediately before fatal shots by police while fleeing could begin slightly earlier and involve a chase.\n",
    "\n",
    "- `body_camera`: News reports have indicated an officer was wearing a body camera and it may have recorded some portion of the incident.\n",
    "\n",
    "- `latitude and longitude`: the location of the shooting expressed as WGS84 coordinates, geocoded from addresses. The coordinates are rounded to 3 decimal places, meaning they have a precision of about 80-100 meters within the contiguous U.S.\n",
    "\n",
    "- `is_geocoding_exact`: reflects the accuracy of the coordinates. true means that the coordinates are for the location of the shooting (within approximately 100 meters), while false means that coordinates are for the centroid of a larger region, such as the city or county where the shooting happened."
   ]
  },
  {
   "cell_type": "markdown",
   "id": "e2f0ac2d",
   "metadata": {},
   "source": [
    "### Mỗi cột hiện đang có kiểu dữ liệu gì? Có cột nào có kiểu dữ liệu chưa phù hợp để có thể xử lý tiếp không? "
   ]
  },
  {
   "cell_type": "code",
   "execution_count": 5,
   "id": "0e8f5320",
   "metadata": {},
   "outputs": [
    {
     "data": {
      "text/plain": [
       "id                           int64\n",
       "name                        object\n",
       "date                        object\n",
       "manner_of_death             object\n",
       "armed                       object\n",
       "age                        float64\n",
       "gender                      object\n",
       "race                        object\n",
       "city                        object\n",
       "state                       object\n",
       "signs_of_mental_illness       bool\n",
       "threat_level                object\n",
       "flee                        object\n",
       "body_camera                   bool\n",
       "longitude                  float64\n",
       "latitude                   float64\n",
       "is_geocoding_exact            bool\n",
       "dtype: object"
      ]
     },
     "execution_count": 5,
     "metadata": {},
     "output_type": "execute_result"
    }
   ],
   "source": [
    "mvt_df.dtypes"
   ]
  },
  {
   "cell_type": "markdown",
   "id": "0c37a10a",
   "metadata": {},
   "source": [
    "- Dữ liệu có 17 thuộc tính.\n",
    "- Nhìn chung hầu hết các thuộc tính đều có kiểu dữ liệu phù hợp. Riêng cột `date` có kiểu dữ liệu `object `chưa phù hợp."
   ]
  },
  {
   "cell_type": "markdown",
   "id": "1c9c5384",
   "metadata": {},
   "source": [
    "**Vấn đề cần tiền xử lý:**\n",
    "Do Cột `date` đang có dtype là `object`. Để có thể tiếp tục khám phá thêm về cột này, chúng em sẽ thực hiện bước tiền xử lý là chuyển sang dạng `datetime`."
   ]
  },
  {
   "cell_type": "markdown",
   "id": "bbb182fd",
   "metadata": {},
   "source": [
    "## Tiền xử lý"
   ]
  },
  {
   "cell_type": "markdown",
   "id": "ccf6f743",
   "metadata": {},
   "source": [
    "### Chuyển dtype của cột \"date\" sang datetime."
   ]
  },
  {
   "cell_type": "code",
   "execution_count": 6,
   "id": "8458c220",
   "metadata": {},
   "outputs": [
    {
     "name": "stdout",
     "output_type": "stream",
     "text": [
      "datetime64[ns]\n"
     ]
    }
   ],
   "source": [
    "mvt_df['date'] = pd.to_datetime(mvt_df['date'], format=\"%Y-%m-%d\")\n",
    "print(mvt_df['date'].dtype)"
   ]
  },
  {
   "cell_type": "markdown",
   "id": "5fb7db36",
   "metadata": {},
   "source": [
    "## Khám phá dữ liệu (tiếp tục)"
   ]
  },
  {
   "cell_type": "markdown",
   "id": "89e816f5",
   "metadata": {},
   "source": [
    "### Với mỗi cột có kiểu dữ liệu dạng numeric, các giá trị được phân bố như thế nào? "
   ]
  },
  {
   "cell_type": "markdown",
   "id": "225ce14a",
   "metadata": {},
   "source": [
    "`mvt_df` có 4 cột numeric là: \"date\", \"age\", \"longitude\", \"latitude\". \n",
    "\n",
    "Với mỗi cột numeric nhóm sẽ tính tỉ lệ % giá trị thiếu (từ 0 đến 100), min, max. Lưu kết quả vào dataframe `nume_col_profiles_df`. Dataframe này có 3 dòng là \"missing_ratio\", \"min\", \"max\"; và có 4 cột numeric.  "
   ]
  },
  {
   "cell_type": "code",
   "execution_count": 7,
   "id": "d32b918f",
   "metadata": {},
   "outputs": [
    {
     "data": {
      "text/html": [
       "<div>\n",
       "<style scoped>\n",
       "    .dataframe tbody tr th:only-of-type {\n",
       "        vertical-align: middle;\n",
       "    }\n",
       "\n",
       "    .dataframe tbody tr th {\n",
       "        vertical-align: top;\n",
       "    }\n",
       "\n",
       "    .dataframe thead th {\n",
       "        text-align: right;\n",
       "    }\n",
       "</style>\n",
       "<table border=\"1\" class=\"dataframe\">\n",
       "  <thead>\n",
       "    <tr style=\"text-align: right;\">\n",
       "      <th></th>\n",
       "      <th>date</th>\n",
       "      <th>age</th>\n",
       "      <th>longitude</th>\n",
       "      <th>latitude</th>\n",
       "    </tr>\n",
       "  </thead>\n",
       "  <tbody>\n",
       "    <tr>\n",
       "      <th>missing_ratio</th>\n",
       "      <td>0.0</td>\n",
       "      <td>4.548995</td>\n",
       "      <td>4.844991</td>\n",
       "      <td>4.844991</td>\n",
       "    </tr>\n",
       "    <tr>\n",
       "      <th>min</th>\n",
       "      <td>2015-01-02 00:00:00</td>\n",
       "      <td>6.000000</td>\n",
       "      <td>-158.137000</td>\n",
       "      <td>19.498000</td>\n",
       "    </tr>\n",
       "    <tr>\n",
       "      <th>max</th>\n",
       "      <td>2021-06-30 00:00:00</td>\n",
       "      <td>91.000000</td>\n",
       "      <td>-67.867000</td>\n",
       "      <td>71.301000</td>\n",
       "    </tr>\n",
       "  </tbody>\n",
       "</table>\n",
       "</div>"
      ],
      "text/plain": [
       "                              date        age   longitude   latitude\n",
       "missing_ratio                  0.0   4.548995    4.844991   4.844991\n",
       "min            2015-01-02 00:00:00   6.000000 -158.137000  19.498000\n",
       "max            2021-06-30 00:00:00  91.000000  -67.867000  71.301000"
      ]
     },
     "execution_count": 7,
     "metadata": {},
     "output_type": "execute_result"
    }
   ],
   "source": [
    "# YOUR CODE HERE\n",
    "numeric_arr = [\"date\", \"age\", \"longitude\", \"latitude\"]\n",
    "\n",
    "def missing_ratio(s):\n",
    "    return s.isna().mean() * 100\n",
    "nume_col_profiles_df = mvt_df[numeric_arr].agg([missing_ratio, min, max])\n",
    "nume_col_profiles_df"
   ]
  },
  {
   "cell_type": "markdown",
   "id": "e2c7c0bd",
   "metadata": {},
   "source": [
    "Missing_ratio và max của các cột có vẻ không có gì bất thường ngoại trừ min, với độ tuổi thấp nhất là 6. Điều này cho thấy "
   ]
  },
  {
   "cell_type": "markdown",
   "id": "93f67378",
   "metadata": {},
   "source": [
    "### Với mỗi cột có kiểu dữ liệu dạng categorical, các giá trị được phân bố như thế nào? "
   ]
  },
  {
   "cell_type": "markdown",
   "id": "cca28c11",
   "metadata": {},
   "source": [
    "`mvt_df` có 13 cột categorical là: \"id\", \"name\", \"manner_of_death\", \"armed\", \"gender\", \"race\", \"city\", \"state\" \n",
    "          , \"signs_of_mental_illness\", \"threat_level\", \"flee\", \"body_camera\", \"is_geocoding_exact\".\n",
    "\n",
    "Với mỗi cột categorical, nhóm tính tỉ lệ % giá trị thiếu (từ 0 đến 100), số lượng giá trị khác nhau, list/array các giá trị khác nhau. Lưu kết quả vào dataframe `cate_col_profiles_df`. Dataframe này có 3 dòng là \"missing_ratio\", \"num_diff_vals\", \"diff_vals\"; và có 13 cột categorical."
   ]
  },
  {
   "cell_type": "code",
   "execution_count": 8,
   "id": "1f2107ae",
   "metadata": {},
   "outputs": [
    {
     "data": {
      "text/html": [
       "<div>\n",
       "<style scoped>\n",
       "    .dataframe tbody tr th:only-of-type {\n",
       "        vertical-align: middle;\n",
       "    }\n",
       "\n",
       "    .dataframe tbody tr th {\n",
       "        vertical-align: top;\n",
       "    }\n",
       "\n",
       "    .dataframe thead th {\n",
       "        text-align: right;\n",
       "    }\n",
       "</style>\n",
       "<table border=\"1\" class=\"dataframe\">\n",
       "  <thead>\n",
       "    <tr style=\"text-align: right;\">\n",
       "      <th></th>\n",
       "      <th>id</th>\n",
       "      <th>name</th>\n",
       "      <th>manner_of_death</th>\n",
       "      <th>armed</th>\n",
       "      <th>gender</th>\n",
       "      <th>race</th>\n",
       "      <th>city</th>\n",
       "      <th>state</th>\n",
       "      <th>signs_of_mental_illness</th>\n",
       "      <th>threat_level</th>\n",
       "      <th>flee</th>\n",
       "      <th>body_camera</th>\n",
       "      <th>is_geocoding_exact</th>\n",
       "    </tr>\n",
       "  </thead>\n",
       "  <tbody>\n",
       "    <tr>\n",
       "      <th>missing_ratio</th>\n",
       "      <td>0.0</td>\n",
       "      <td>3.754479</td>\n",
       "      <td>0.0</td>\n",
       "      <td>3.24038</td>\n",
       "      <td>0.015579</td>\n",
       "      <td>10.796074</td>\n",
       "      <td>0.0</td>\n",
       "      <td>0.0</td>\n",
       "      <td>0.0</td>\n",
       "      <td>0.0</td>\n",
       "      <td>6.761178</td>\n",
       "      <td>0.0</td>\n",
       "      <td>0.0</td>\n",
       "    </tr>\n",
       "    <tr>\n",
       "      <th>num_diff_vals</th>\n",
       "      <td>6419</td>\n",
       "      <td>6160</td>\n",
       "      <td>2</td>\n",
       "      <td>99</td>\n",
       "      <td>3</td>\n",
       "      <td>7</td>\n",
       "      <td>2778</td>\n",
       "      <td>51</td>\n",
       "      <td>2</td>\n",
       "      <td>3</td>\n",
       "      <td>5</td>\n",
       "      <td>2</td>\n",
       "      <td>2</td>\n",
       "    </tr>\n",
       "    <tr>\n",
       "      <th>diff_vals</th>\n",
       "      <td>[3, 4, 5, 8, 9, 11, 13, 15, 16, 17, 19, 21, 22...</td>\n",
       "      <td>[Tim Elliot, Lewis Lee Lembke, John Paul Quint...</td>\n",
       "      <td>[shot, shot and Tasered]</td>\n",
       "      <td>[gun, unarmed, toy weapon, nail gun, knife, na...</td>\n",
       "      <td>[M, F, nan]</td>\n",
       "      <td>[A, W, H, B, O, nan, N]</td>\n",
       "      <td>[Shelton, Aloha, Wichita, San Francisco, Evans...</td>\n",
       "      <td>[WA, OR, KS, CA, CO, OK, AZ, IA, PA, TX, OH, L...</td>\n",
       "      <td>[True, False]</td>\n",
       "      <td>[attack, other, undetermined]</td>\n",
       "      <td>[Not fleeing, Car, Foot, Other, nan]</td>\n",
       "      <td>[False, True]</td>\n",
       "      <td>[True, False]</td>\n",
       "    </tr>\n",
       "  </tbody>\n",
       "</table>\n",
       "</div>"
      ],
      "text/plain": [
       "                                                              id  \\\n",
       "missing_ratio                                                0.0   \n",
       "num_diff_vals                                               6419   \n",
       "diff_vals      [3, 4, 5, 8, 9, 11, 13, 15, 16, 17, 19, 21, 22...   \n",
       "\n",
       "                                                            name  \\\n",
       "missing_ratio                                           3.754479   \n",
       "num_diff_vals                                               6160   \n",
       "diff_vals      [Tim Elliot, Lewis Lee Lembke, John Paul Quint...   \n",
       "\n",
       "                        manner_of_death  \\\n",
       "missing_ratio                       0.0   \n",
       "num_diff_vals                         2   \n",
       "diff_vals      [shot, shot and Tasered]   \n",
       "\n",
       "                                                           armed       gender  \\\n",
       "missing_ratio                                            3.24038     0.015579   \n",
       "num_diff_vals                                                 99            3   \n",
       "diff_vals      [gun, unarmed, toy weapon, nail gun, knife, na...  [M, F, nan]   \n",
       "\n",
       "                                  race  \\\n",
       "missing_ratio                10.796074   \n",
       "num_diff_vals                        7   \n",
       "diff_vals      [A, W, H, B, O, nan, N]   \n",
       "\n",
       "                                                            city  \\\n",
       "missing_ratio                                                0.0   \n",
       "num_diff_vals                                               2778   \n",
       "diff_vals      [Shelton, Aloha, Wichita, San Francisco, Evans...   \n",
       "\n",
       "                                                           state  \\\n",
       "missing_ratio                                                0.0   \n",
       "num_diff_vals                                                 51   \n",
       "diff_vals      [WA, OR, KS, CA, CO, OK, AZ, IA, PA, TX, OH, L...   \n",
       "\n",
       "              signs_of_mental_illness                   threat_level  \\\n",
       "missing_ratio                     0.0                            0.0   \n",
       "num_diff_vals                       2                              3   \n",
       "diff_vals               [True, False]  [attack, other, undetermined]   \n",
       "\n",
       "                                               flee    body_camera  \\\n",
       "missing_ratio                              6.761178            0.0   \n",
       "num_diff_vals                                     5              2   \n",
       "diff_vals      [Not fleeing, Car, Foot, Other, nan]  [False, True]   \n",
       "\n",
       "              is_geocoding_exact  \n",
       "missing_ratio                0.0  \n",
       "num_diff_vals                  2  \n",
       "diff_vals          [True, False]  "
      ]
     },
     "execution_count": 8,
     "metadata": {},
     "output_type": "execute_result"
    }
   ],
   "source": [
    "# YOUR CODE HERE\n",
    "categorical_arr = [\"id\", \"name\", \"manner_of_death\", \"armed\", \"gender\", \"race\", \"city\",\"state\" \n",
    "                   ,\"signs_of_mental_illness\", \"threat_level\", \"flee\", \"body_camera\", \"is_geocoding_exact\"]\n",
    "def num_diff_vals(s):    #số lượng giá trị khác nhau\n",
    "    return pd.Series.nunique(s, False) \n",
    "\n",
    "def diff_vals(s):       #list/array các giá trị khác nhau\n",
    "    return pd.Series.unique(s)\n",
    "\n",
    "cate_col_profiles_df = mvt_df[categorical_arr].agg([missing_ratio, num_diff_vals, diff_vals])\n",
    "cate_col_profiles_df"
   ]
  },
  {
   "cell_type": "markdown",
   "id": "49b32536",
   "metadata": {},
   "source": [
    "## Đưa ra các câu hỏi cần trả lời"
   ]
  },
  {
   "cell_type": "markdown",
   "id": "eed0e19a",
   "metadata": {},
   "source": [
    "## Nhìn lại quá trình làm đồ án"
   ]
  },
  {
   "cell_type": "markdown",
   "id": "ee134091",
   "metadata": {},
   "source": [
    "- `Khó khăn`\n",
    "    \n",
    "- `Những điều hữu ích học được`\n",
    "    - Kĩ năng làm việc nhóm.\n",
    "    - Kĩ năng sử dụng các công cụ hỗ trợ làm đồ án (như github, trello,...).\n",
    "    - Các kĩ năng khám phá dữ liệu.\n",
    "    - Hiểu sâu sắc hơn quy trình Khoa học dữ liệu qua việc tự tìm hiểu và làm đồ án.\n",
    "    \n",
    "- `Những dự định nếu có thời gian thêm`"
   ]
  },
  {
   "cell_type": "markdown",
   "id": "6cd6c815",
   "metadata": {},
   "source": [
    "## Tài liệu tham khảo"
   ]
  },
  {
   "cell_type": "markdown",
   "id": "c958c338",
   "metadata": {},
   "source": [
    "- https://www.washingtonpost.com/graphics/investigations/police-shootings-database/\n",
    "- https://github.com/washingtonpost/data-police-shootings\n",
    "- https://www.ers.usda.gov/data-products/county-level-data-sets/download-data/\n",
    "- https://en.wikipedia.org/wiki/Race_and_ethnicity_in_the_United_States"
   ]
  },
  {
   "cell_type": "code",
   "execution_count": null,
   "id": "1f004404",
   "metadata": {},
   "outputs": [],
   "source": []
  }
 ],
 "metadata": {
  "hide_input": false,
  "kernelspec": {
   "display_name": "Python 3",
   "language": "python",
   "name": "python3"
  },
  "language_info": {
   "codemirror_mode": {
    "name": "ipython",
    "version": 3
   },
   "file_extension": ".py",
   "mimetype": "text/x-python",
   "name": "python",
   "nbconvert_exporter": "python",
   "pygments_lexer": "ipython3",
   "version": "3.8.8"
  },
  "toc": {
   "base_numbering": 1,
   "nav_menu": {},
   "number_sections": true,
   "sideBar": true,
   "skip_h1_title": true,
   "title_cell": "Mục lục",
   "title_sidebar": "Contents",
   "toc_cell": true,
   "toc_position": {
    "height": "564.545px",
    "left": "1076px",
    "top": "110.284px",
    "width": "346.364px"
   },
   "toc_section_display": true,
   "toc_window_display": true
  }
 },
 "nbformat": 4,
 "nbformat_minor": 5
}
